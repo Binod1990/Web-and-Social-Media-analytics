{
  "cells": [
    {
      "cell_type": "markdown",
      "source": [
        "**Problem Statement**\n",
        "\n",
        "Customer is a mobile manufacturer based in the US, who entered the market three years ago. As a new entrant in the sector, they want to understand their competitors and preferences of their users so that they can design their strategies accordingly.They want to tweak the marketing strategies to add more value to their brand, provide features to customers that add the most value, and close the demand-supply gap. Their objective is to increase the market share as well as the brand value."
      ],
      "metadata": {
        "id": "5ogZYStRnqqR"
      }
    },
    {
      "cell_type": "markdown",
      "source": [
        "**Solution:**\n",
        "\n",
        "The solution has been divided into two parts.\n",
        "\n",
        "Part 1: Deriving the business insights that are useful for product development and marketing.\n",
        "\n",
        "Part 2: Creating a sentiment classification engine."
      ],
      "metadata": {
        "id": "zPUDsO3JoDgJ"
      }
    },
    {
      "cell_type": "markdown",
      "source": [
        "**Part 1: Deriving the business insights that are useful for product development and marketing.**"
      ],
      "metadata": {
        "id": "lvmx5p-IoeQf"
      }
    },
    {
      "cell_type": "markdown",
      "source": [
        "**Uploading the data from google drive path**"
      ],
      "metadata": {
        "id": "52uLjZ37omuD"
      }
    },
    {
      "cell_type": "code",
      "execution_count": null,
      "metadata": {
        "colab": {
          "base_uri": "https://localhost:8080/"
        },
        "id": "unJD3R6P4c_R",
        "outputId": "bc5e87be-9570-4743-a1e0-9ee2b5121d00"
      },
      "outputs": [
        {
          "output_type": "stream",
          "name": "stdout",
          "text": [
            "Drive already mounted at /content/drive; to attempt to forcibly remount, call drive.mount(\"/content/drive\", force_remount=True).\n"
          ]
        }
      ],
      "source": [
        "# Importing the drive to upload the dataset\n",
        "from google.colab import drive\n",
        "drive.mount('/content/drive')"
      ]
    },
    {
      "cell_type": "markdown",
      "source": [
        "__Importing the required Libraries__"
      ],
      "metadata": {
        "id": "64szRraNTNg9"
      }
    },
    {
      "cell_type": "code",
      "execution_count": null,
      "metadata": {
        "id": "kHkrvf5V_GJ_"
      },
      "outputs": [],
      "source": [
        "# For Dataset Operation\n",
        "import pandas as pd\n",
        "import numpy as np\n",
        "pd.set_option('max_colwidth',100)\n",
        "\n",
        "# For Visualization\n",
        "import matplotlib.pyplot as plt\n",
        "import seaborn as sns\n",
        "import plotly.express as px\n",
        "\n",
        "# For Text Analytics\n",
        "import nltk\n",
        "from nltk import FreqDist\n",
        "from nltk.tokenize import word_tokenize\n",
        "from nltk.stem.porter import PorterStemmer\n",
        "from nltk.stem import WordNetLemmatizer\n",
        "import sklearn\n",
        "from sklearn.feature_extraction.text import TfidfVectorizer\n",
        "from sklearn.feature_extraction.text import CountVectorizer\n",
        "\n",
        "# For Matrix and Model evaluation\n",
        "from sklearn import metrics\n",
        "from sklearn.metrics import confusion_matrix\n",
        "from sklearn.metrics import precision_score\n",
        "from sklearn.metrics import precision_recall_curve\n"
      ]
    },
    {
      "cell_type": "markdown",
      "metadata": {
        "id": "VRXmVYBOLdn2"
      },
      "source": [
        "### The following data sets are available\n",
        "1.   meta data of type .json\n",
        "2.   phone data of type .csv\n",
        "\n",
        "The meta data holds information from sellers point of view and the phone data holds user information.\n",
        "We begin by unzipping the meta data file and extracting its content to a list\n",
        "\n"
      ]
    },
    {
      "cell_type": "markdown",
      "metadata": {
        "id": "ET15XVQDM0L4"
      },
      "source": [
        "# Reading the  data\n",
        "\n"
      ]
    },
    {
      "cell_type": "code",
      "execution_count": null,
      "metadata": {
        "id": "nkUb-G5Q7LqS"
      },
      "outputs": [],
      "source": [
        "# Reading the meta data\n",
        "# importing libraries\n",
        "\n",
        "import gzip\n",
        "import shutil\n",
        "\n",
        "#Path to the meta data zip file. 'capstone' is the folder name under 'My Drive'\n",
        "path1 = '/content/drive/My Drive/capstone/meta_Cell_Phones_and_Accessories.json.gz'\n",
        "\n",
        "\n",
        "# Path to meta data .json file\n",
        "path2 = '/content/drive/My Drive/capstone/meta_Cell_Phones_and_Accessories.json'\n",
        "\n",
        "\n",
        "# Unzipping the meta data file\n",
        "with gzip.open(path1, 'rb') as f_in:\n",
        "    with open(path2, 'wb') as f_out:\n",
        "        shutil.copyfileobj(f_in, f_out)"
      ]
    },
    {
      "cell_type": "code",
      "execution_count": null,
      "metadata": {
        "id": "FtnsAi2v7TpI"
      },
      "outputs": [],
      "source": [
        "# Reading the unzipped meta data into a Python list. The result will be a list of dictionaries.\n",
        "import json\n",
        "\n",
        "# Empty list to store the dictonaries\n",
        "phonemetadata = []\n",
        "\n",
        "# Reading the dictionaries in the json file and appending it to the list phonemetadata[]\n",
        "with open(path2, 'r') as f:\n",
        "    for line in f:\n",
        "        phonemetadata.append(json.loads(line))"
      ]
    },
    {
      "cell_type": "code",
      "execution_count": null,
      "metadata": {
        "id": "i7K99Fg0kozW",
        "colab": {
          "base_uri": "https://localhost:8080/"
        },
        "outputId": "ff7589f4-17fc-4914-ba37-47b98d649079"
      },
      "outputs": [
        {
          "output_type": "execute_result",
          "data": {
            "text/plain": [
              "590071"
            ]
          },
          "metadata": {},
          "execution_count": 16
        }
      ],
      "source": [
        "# Getting the number of entries in the phonemetadata list\n",
        "len(phonemetadata)"
      ]
    },
    {
      "cell_type": "code",
      "execution_count": null,
      "metadata": {
        "id": "uokikHfJOZBi"
      },
      "outputs": [],
      "source": [
        "#converting the list phonemetadata into a data frame\n",
        "df_meta=pd.DataFrame(phonemetadata)"
      ]
    },
    {
      "cell_type": "code",
      "source": [
        "# Saving the CSV file for Meta data.\n",
        "df_meta.to_csv('/content/drive/MyDrive/capstone/meta1.csv',escapechar='\\\\')"
      ],
      "metadata": {
        "id": "vBCMytzek9v7"
      },
      "execution_count": null,
      "outputs": []
    },
    {
      "cell_type": "code",
      "execution_count": null,
      "metadata": {
        "id": "_ZCzsuLuOeJx",
        "colab": {
          "base_uri": "https://localhost:8080/"
        },
        "outputId": "c5a0771d-9d8d-4f0c-958f-6e594d57aebc"
      },
      "outputs": [
        {
          "output_type": "stream",
          "name": "stderr",
          "text": [
            "<ipython-input-10-240faa60e68d>:3: DtypeWarning: Columns (9) have mixed types. Specify dtype option on import or set low_memory=False.\n",
            "  df_phonedata = pd.read_csv('/content/drive/My Drive/capstone/Cell_Phones_and_Accessories_5.csv')\n"
          ]
        }
      ],
      "source": [
        "#Reading the .csv file of the phone data into a dataframe\n",
        "\n",
        "df_phonedata = pd.read_csv('/content/drive/My Drive/capstone/Cell_Phones_and_Accessories_5.csv')"
      ]
    },
    {
      "cell_type": "markdown",
      "source": [
        "__Step 1: Data Understanding and  Preparation__"
      ],
      "metadata": {
        "id": "vFszH96tltuA"
      }
    },
    {
      "cell_type": "code",
      "execution_count": null,
      "metadata": {
        "id": "7MtZtNRSnXla",
        "colab": {
          "base_uri": "https://localhost:8080/",
          "height": 380
        },
        "outputId": "ef537e6d-920e-4809-e2a3-9af57d0e6a6d"
      },
      "outputs": [
        {
          "output_type": "execute_result",
          "data": {
            "text/plain": [
              "   overall  verified      reviewerID        asin                 style  \\\n",
              "0      5.0      True  A24E3SXTC62LJI  7508492919  {'Color:': ' Bling'}   \n",
              "1      5.0      True  A269FLZCB4GIPV  7508492919                   NaN   \n",
              "2      3.0      True   AB6CHQWHZW4TV  7508492919                   NaN   \n",
              "3      2.0      True   A1M117A53LEI8  7508492919                   NaN   \n",
              "4      4.0      True  A272DUT8M88ZS8  7508492919                   NaN   \n",
              "\n",
              "       reviewerName  \\\n",
              "0  Claudia Valdivia   \n",
              "1       sarah ponce   \n",
              "2               Kai   \n",
              "3   Sharon Williams   \n",
              "4   Bella Rodriguez   \n",
              "\n",
              "                                                                                            reviewText  \\\n",
              "0  Looks even better in person. Be careful to not drop your phone so often because the rhinestones ...   \n",
              "1  When you don't want to spend a whole lot of cash but want a great deal...this is the shop to buy...   \n",
              "2  so the case came on time, i love the design. I'm actually missing 2 studs but nothing too notice...   \n",
              "3         DON'T CARE FOR IT.  GAVE IT AS A GIFT AND THEY WERE OKAY WITH IT.  JUST NOT WHAT I EXPECTED.   \n",
              "4  I liked it because it was cute, but the studs fall off easily and to protect a phone this would ...   \n",
              "\n",
              "                               summary  unixReviewTime vote image  \\\n",
              "0  Can't stop won't stop looking at it      1407110400  NaN   NaN   \n",
              "1                                    1      1392163200  NaN   NaN   \n",
              "2                             Its okay      1391817600  NaN   NaN   \n",
              "3                                 CASE      1391472000  NaN   NaN   \n",
              "4                                Cute!      1391385600  NaN   NaN   \n",
              "\n",
              "  review_sentiment  \n",
              "0         POSITIVE  \n",
              "1         POSITIVE  \n",
              "2         NEGATIVE  \n",
              "3         POSITIVE  \n",
              "4         POSITIVE  "
            ],
            "text/html": [
              "\n",
              "  <div id=\"df-72a22b53-0168-4733-9d84-f82eb45da62a\" class=\"colab-df-container\">\n",
              "    <div>\n",
              "<style scoped>\n",
              "    .dataframe tbody tr th:only-of-type {\n",
              "        vertical-align: middle;\n",
              "    }\n",
              "\n",
              "    .dataframe tbody tr th {\n",
              "        vertical-align: top;\n",
              "    }\n",
              "\n",
              "    .dataframe thead th {\n",
              "        text-align: right;\n",
              "    }\n",
              "</style>\n",
              "<table border=\"1\" class=\"dataframe\">\n",
              "  <thead>\n",
              "    <tr style=\"text-align: right;\">\n",
              "      <th></th>\n",
              "      <th>overall</th>\n",
              "      <th>verified</th>\n",
              "      <th>reviewerID</th>\n",
              "      <th>asin</th>\n",
              "      <th>style</th>\n",
              "      <th>reviewerName</th>\n",
              "      <th>reviewText</th>\n",
              "      <th>summary</th>\n",
              "      <th>unixReviewTime</th>\n",
              "      <th>vote</th>\n",
              "      <th>image</th>\n",
              "      <th>review_sentiment</th>\n",
              "    </tr>\n",
              "  </thead>\n",
              "  <tbody>\n",
              "    <tr>\n",
              "      <th>0</th>\n",
              "      <td>5.0</td>\n",
              "      <td>True</td>\n",
              "      <td>A24E3SXTC62LJI</td>\n",
              "      <td>7508492919</td>\n",
              "      <td>{'Color:': ' Bling'}</td>\n",
              "      <td>Claudia Valdivia</td>\n",
              "      <td>Looks even better in person. Be careful to not drop your phone so often because the rhinestones ...</td>\n",
              "      <td>Can't stop won't stop looking at it</td>\n",
              "      <td>1407110400</td>\n",
              "      <td>NaN</td>\n",
              "      <td>NaN</td>\n",
              "      <td>POSITIVE</td>\n",
              "    </tr>\n",
              "    <tr>\n",
              "      <th>1</th>\n",
              "      <td>5.0</td>\n",
              "      <td>True</td>\n",
              "      <td>A269FLZCB4GIPV</td>\n",
              "      <td>7508492919</td>\n",
              "      <td>NaN</td>\n",
              "      <td>sarah ponce</td>\n",
              "      <td>When you don't want to spend a whole lot of cash but want a great deal...this is the shop to buy...</td>\n",
              "      <td>1</td>\n",
              "      <td>1392163200</td>\n",
              "      <td>NaN</td>\n",
              "      <td>NaN</td>\n",
              "      <td>POSITIVE</td>\n",
              "    </tr>\n",
              "    <tr>\n",
              "      <th>2</th>\n",
              "      <td>3.0</td>\n",
              "      <td>True</td>\n",
              "      <td>AB6CHQWHZW4TV</td>\n",
              "      <td>7508492919</td>\n",
              "      <td>NaN</td>\n",
              "      <td>Kai</td>\n",
              "      <td>so the case came on time, i love the design. I'm actually missing 2 studs but nothing too notice...</td>\n",
              "      <td>Its okay</td>\n",
              "      <td>1391817600</td>\n",
              "      <td>NaN</td>\n",
              "      <td>NaN</td>\n",
              "      <td>NEGATIVE</td>\n",
              "    </tr>\n",
              "    <tr>\n",
              "      <th>3</th>\n",
              "      <td>2.0</td>\n",
              "      <td>True</td>\n",
              "      <td>A1M117A53LEI8</td>\n",
              "      <td>7508492919</td>\n",
              "      <td>NaN</td>\n",
              "      <td>Sharon Williams</td>\n",
              "      <td>DON'T CARE FOR IT.  GAVE IT AS A GIFT AND THEY WERE OKAY WITH IT.  JUST NOT WHAT I EXPECTED.</td>\n",
              "      <td>CASE</td>\n",
              "      <td>1391472000</td>\n",
              "      <td>NaN</td>\n",
              "      <td>NaN</td>\n",
              "      <td>POSITIVE</td>\n",
              "    </tr>\n",
              "    <tr>\n",
              "      <th>4</th>\n",
              "      <td>4.0</td>\n",
              "      <td>True</td>\n",
              "      <td>A272DUT8M88ZS8</td>\n",
              "      <td>7508492919</td>\n",
              "      <td>NaN</td>\n",
              "      <td>Bella Rodriguez</td>\n",
              "      <td>I liked it because it was cute, but the studs fall off easily and to protect a phone this would ...</td>\n",
              "      <td>Cute!</td>\n",
              "      <td>1391385600</td>\n",
              "      <td>NaN</td>\n",
              "      <td>NaN</td>\n",
              "      <td>POSITIVE</td>\n",
              "    </tr>\n",
              "  </tbody>\n",
              "</table>\n",
              "</div>\n",
              "    <div class=\"colab-df-buttons\">\n",
              "\n",
              "  <div class=\"colab-df-container\">\n",
              "    <button class=\"colab-df-convert\" onclick=\"convertToInteractive('df-72a22b53-0168-4733-9d84-f82eb45da62a')\"\n",
              "            title=\"Convert this dataframe to an interactive table.\"\n",
              "            style=\"display:none;\">\n",
              "\n",
              "  <svg xmlns=\"http://www.w3.org/2000/svg\" height=\"24px\" viewBox=\"0 -960 960 960\">\n",
              "    <path d=\"M120-120v-720h720v720H120Zm60-500h600v-160H180v160Zm220 220h160v-160H400v160Zm0 220h160v-160H400v160ZM180-400h160v-160H180v160Zm440 0h160v-160H620v160ZM180-180h160v-160H180v160Zm440 0h160v-160H620v160Z\"/>\n",
              "  </svg>\n",
              "    </button>\n",
              "\n",
              "  <style>\n",
              "    .colab-df-container {\n",
              "      display:flex;\n",
              "      gap: 12px;\n",
              "    }\n",
              "\n",
              "    .colab-df-convert {\n",
              "      background-color: #E8F0FE;\n",
              "      border: none;\n",
              "      border-radius: 50%;\n",
              "      cursor: pointer;\n",
              "      display: none;\n",
              "      fill: #1967D2;\n",
              "      height: 32px;\n",
              "      padding: 0 0 0 0;\n",
              "      width: 32px;\n",
              "    }\n",
              "\n",
              "    .colab-df-convert:hover {\n",
              "      background-color: #E2EBFA;\n",
              "      box-shadow: 0px 1px 2px rgba(60, 64, 67, 0.3), 0px 1px 3px 1px rgba(60, 64, 67, 0.15);\n",
              "      fill: #174EA6;\n",
              "    }\n",
              "\n",
              "    .colab-df-buttons div {\n",
              "      margin-bottom: 4px;\n",
              "    }\n",
              "\n",
              "    [theme=dark] .colab-df-convert {\n",
              "      background-color: #3B4455;\n",
              "      fill: #D2E3FC;\n",
              "    }\n",
              "\n",
              "    [theme=dark] .colab-df-convert:hover {\n",
              "      background-color: #434B5C;\n",
              "      box-shadow: 0px 1px 3px 1px rgba(0, 0, 0, 0.15);\n",
              "      filter: drop-shadow(0px 1px 2px rgba(0, 0, 0, 0.3));\n",
              "      fill: #FFFFFF;\n",
              "    }\n",
              "  </style>\n",
              "\n",
              "    <script>\n",
              "      const buttonEl =\n",
              "        document.querySelector('#df-72a22b53-0168-4733-9d84-f82eb45da62a button.colab-df-convert');\n",
              "      buttonEl.style.display =\n",
              "        google.colab.kernel.accessAllowed ? 'block' : 'none';\n",
              "\n",
              "      async function convertToInteractive(key) {\n",
              "        const element = document.querySelector('#df-72a22b53-0168-4733-9d84-f82eb45da62a');\n",
              "        const dataTable =\n",
              "          await google.colab.kernel.invokeFunction('convertToInteractive',\n",
              "                                                    [key], {});\n",
              "        if (!dataTable) return;\n",
              "\n",
              "        const docLinkHtml = 'Like what you see? Visit the ' +\n",
              "          '<a target=\"_blank\" href=https://colab.research.google.com/notebooks/data_table.ipynb>data table notebook</a>'\n",
              "          + ' to learn more about interactive tables.';\n",
              "        element.innerHTML = '';\n",
              "        dataTable['output_type'] = 'display_data';\n",
              "        await google.colab.output.renderOutput(dataTable, element);\n",
              "        const docLink = document.createElement('div');\n",
              "        docLink.innerHTML = docLinkHtml;\n",
              "        element.appendChild(docLink);\n",
              "      }\n",
              "    </script>\n",
              "  </div>\n",
              "\n",
              "\n",
              "<div id=\"df-0574f592-8dd0-495e-88de-93f261fe5eaf\">\n",
              "  <button class=\"colab-df-quickchart\" onclick=\"quickchart('df-0574f592-8dd0-495e-88de-93f261fe5eaf')\"\n",
              "            title=\"Suggest charts\"\n",
              "            style=\"display:none;\">\n",
              "\n",
              "<svg xmlns=\"http://www.w3.org/2000/svg\" height=\"24px\"viewBox=\"0 0 24 24\"\n",
              "     width=\"24px\">\n",
              "    <g>\n",
              "        <path d=\"M19 3H5c-1.1 0-2 .9-2 2v14c0 1.1.9 2 2 2h14c1.1 0 2-.9 2-2V5c0-1.1-.9-2-2-2zM9 17H7v-7h2v7zm4 0h-2V7h2v10zm4 0h-2v-4h2v4z\"/>\n",
              "    </g>\n",
              "</svg>\n",
              "  </button>\n",
              "\n",
              "<style>\n",
              "  .colab-df-quickchart {\n",
              "      --bg-color: #E8F0FE;\n",
              "      --fill-color: #1967D2;\n",
              "      --hover-bg-color: #E2EBFA;\n",
              "      --hover-fill-color: #174EA6;\n",
              "      --disabled-fill-color: #AAA;\n",
              "      --disabled-bg-color: #DDD;\n",
              "  }\n",
              "\n",
              "  [theme=dark] .colab-df-quickchart {\n",
              "      --bg-color: #3B4455;\n",
              "      --fill-color: #D2E3FC;\n",
              "      --hover-bg-color: #434B5C;\n",
              "      --hover-fill-color: #FFFFFF;\n",
              "      --disabled-bg-color: #3B4455;\n",
              "      --disabled-fill-color: #666;\n",
              "  }\n",
              "\n",
              "  .colab-df-quickchart {\n",
              "    background-color: var(--bg-color);\n",
              "    border: none;\n",
              "    border-radius: 50%;\n",
              "    cursor: pointer;\n",
              "    display: none;\n",
              "    fill: var(--fill-color);\n",
              "    height: 32px;\n",
              "    padding: 0;\n",
              "    width: 32px;\n",
              "  }\n",
              "\n",
              "  .colab-df-quickchart:hover {\n",
              "    background-color: var(--hover-bg-color);\n",
              "    box-shadow: 0 1px 2px rgba(60, 64, 67, 0.3), 0 1px 3px 1px rgba(60, 64, 67, 0.15);\n",
              "    fill: var(--button-hover-fill-color);\n",
              "  }\n",
              "\n",
              "  .colab-df-quickchart-complete:disabled,\n",
              "  .colab-df-quickchart-complete:disabled:hover {\n",
              "    background-color: var(--disabled-bg-color);\n",
              "    fill: var(--disabled-fill-color);\n",
              "    box-shadow: none;\n",
              "  }\n",
              "\n",
              "  .colab-df-spinner {\n",
              "    border: 2px solid var(--fill-color);\n",
              "    border-color: transparent;\n",
              "    border-bottom-color: var(--fill-color);\n",
              "    animation:\n",
              "      spin 1s steps(1) infinite;\n",
              "  }\n",
              "\n",
              "  @keyframes spin {\n",
              "    0% {\n",
              "      border-color: transparent;\n",
              "      border-bottom-color: var(--fill-color);\n",
              "      border-left-color: var(--fill-color);\n",
              "    }\n",
              "    20% {\n",
              "      border-color: transparent;\n",
              "      border-left-color: var(--fill-color);\n",
              "      border-top-color: var(--fill-color);\n",
              "    }\n",
              "    30% {\n",
              "      border-color: transparent;\n",
              "      border-left-color: var(--fill-color);\n",
              "      border-top-color: var(--fill-color);\n",
              "      border-right-color: var(--fill-color);\n",
              "    }\n",
              "    40% {\n",
              "      border-color: transparent;\n",
              "      border-right-color: var(--fill-color);\n",
              "      border-top-color: var(--fill-color);\n",
              "    }\n",
              "    60% {\n",
              "      border-color: transparent;\n",
              "      border-right-color: var(--fill-color);\n",
              "    }\n",
              "    80% {\n",
              "      border-color: transparent;\n",
              "      border-right-color: var(--fill-color);\n",
              "      border-bottom-color: var(--fill-color);\n",
              "    }\n",
              "    90% {\n",
              "      border-color: transparent;\n",
              "      border-bottom-color: var(--fill-color);\n",
              "    }\n",
              "  }\n",
              "</style>\n",
              "\n",
              "  <script>\n",
              "    async function quickchart(key) {\n",
              "      const quickchartButtonEl =\n",
              "        document.querySelector('#' + key + ' button');\n",
              "      quickchartButtonEl.disabled = true;  // To prevent multiple clicks.\n",
              "      quickchartButtonEl.classList.add('colab-df-spinner');\n",
              "      try {\n",
              "        const charts = await google.colab.kernel.invokeFunction(\n",
              "            'suggestCharts', [key], {});\n",
              "      } catch (error) {\n",
              "        console.error('Error during call to suggestCharts:', error);\n",
              "      }\n",
              "      quickchartButtonEl.classList.remove('colab-df-spinner');\n",
              "      quickchartButtonEl.classList.add('colab-df-quickchart-complete');\n",
              "    }\n",
              "    (() => {\n",
              "      let quickchartButtonEl =\n",
              "        document.querySelector('#df-0574f592-8dd0-495e-88de-93f261fe5eaf button');\n",
              "      quickchartButtonEl.style.display =\n",
              "        google.colab.kernel.accessAllowed ? 'block' : 'none';\n",
              "    })();\n",
              "  </script>\n",
              "</div>\n",
              "\n",
              "    </div>\n",
              "  </div>\n"
            ],
            "application/vnd.google.colaboratory.intrinsic+json": {
              "type": "dataframe",
              "variable_name": "df_phonedata"
            }
          },
          "metadata": {},
          "execution_count": 11
        }
      ],
      "source": [
        "df_phonedata.head(5)"
      ]
    },
    {
      "cell_type": "code",
      "source": [
        "df_phonedata.info()"
      ],
      "metadata": {
        "colab": {
          "base_uri": "https://localhost:8080/"
        },
        "id": "fGtirZ6AmZAp",
        "outputId": "2adc62df-fa46-4bf6-e15d-e2f3205af2fb"
      },
      "execution_count": null,
      "outputs": [
        {
          "output_type": "stream",
          "name": "stdout",
          "text": [
            "<class 'pandas.core.frame.DataFrame'>\n",
            "RangeIndex: 1128437 entries, 0 to 1128436\n",
            "Data columns (total 12 columns):\n",
            " #   Column            Non-Null Count    Dtype  \n",
            "---  ------            --------------    -----  \n",
            " 0   overall           1128437 non-null  float64\n",
            " 1   verified          1128437 non-null  bool   \n",
            " 2   reviewerID        1128437 non-null  object \n",
            " 3   asin              1128437 non-null  object \n",
            " 4   style             605241 non-null   object \n",
            " 5   reviewerName      1128235 non-null  object \n",
            " 6   reviewText        1127607 non-null  object \n",
            " 7   summary           1127898 non-null  object \n",
            " 8   unixReviewTime    1128437 non-null  int64  \n",
            " 9   vote              92034 non-null    object \n",
            " 10  image             27107 non-null    object \n",
            " 11  review_sentiment  1128437 non-null  object \n",
            "dtypes: bool(1), float64(1), int64(1), object(9)\n",
            "memory usage: 95.8+ MB\n"
          ]
        }
      ]
    },
    {
      "cell_type": "markdown",
      "metadata": {
        "id": "-RUKzZgE5cv1"
      },
      "source": [
        "# Data pre-processing\n",
        "\n"
      ]
    },
    {
      "cell_type": "code",
      "execution_count": null,
      "metadata": {
        "id": "8jHXp1OyI9wq"
      },
      "outputs": [],
      "source": [
        "# Converting unix review time to date-time format\n",
        "\n",
        "#Transforming unixReview time to date time format\n",
        "from datetime import datetime, timedelta\n",
        "df_phonedata['Date&Time'] = df_phonedata['unixReviewTime'].apply(lambda d: (datetime.fromtimestamp(d) - timedelta(hours=2)).strftime('%Y-%m-%d'))\n"
      ]
    },
    {
      "cell_type": "code",
      "source": [
        "# Dropping the redundant column\n",
        "df_phonedata.drop(['unixReviewTime'], axis = 1, inplace = True)"
      ],
      "metadata": {
        "id": "FQotSO8OwXEA"
      },
      "execution_count": null,
      "outputs": []
    },
    {
      "cell_type": "code",
      "execution_count": null,
      "metadata": {
        "id": "NGBpalCPW4rz",
        "colab": {
          "base_uri": "https://localhost:8080/"
        },
        "outputId": "92b20b88-1c85-4cb3-95c6-dbb4e986da1c"
      },
      "outputs": [
        {
          "output_type": "stream",
          "name": "stdout",
          "text": [
            "<class 'pandas.core.frame.DataFrame'>\n",
            "RangeIndex: 1128437 entries, 0 to 1128436\n",
            "Data columns (total 12 columns):\n",
            " #   Column            Non-Null Count    Dtype  \n",
            "---  ------            --------------    -----  \n",
            " 0   overall           1128437 non-null  float64\n",
            " 1   verified          1128437 non-null  bool   \n",
            " 2   reviewerID        1128437 non-null  object \n",
            " 3   asin              1128437 non-null  object \n",
            " 4   style             605241 non-null   object \n",
            " 5   reviewerName      1128235 non-null  object \n",
            " 6   reviewText        1127607 non-null  object \n",
            " 7   summary           1127898 non-null  object \n",
            " 8   vote              92034 non-null    object \n",
            " 9   image             27107 non-null    object \n",
            " 10  review_sentiment  1128437 non-null  object \n",
            " 11  Date&Time         1128437 non-null  object \n",
            "dtypes: bool(1), float64(1), object(10)\n",
            "memory usage: 95.8+ MB\n"
          ]
        }
      ],
      "source": [
        "df_phonedata.info()"
      ]
    },
    {
      "cell_type": "markdown",
      "metadata": {
        "id": "_M9w037iW4r0"
      },
      "source": [
        "##### EDA for Phone date"
      ]
    },
    {
      "cell_type": "markdown",
      "source": [
        "##### Checking Null values"
      ],
      "metadata": {
        "id": "oF1HVAoFnRHa"
      }
    },
    {
      "cell_type": "code",
      "source": [
        "df_phonedata.isnull().mean()*100"
      ],
      "metadata": {
        "colab": {
          "base_uri": "https://localhost:8080/"
        },
        "id": "Vo0k4bMenQq7",
        "outputId": "94c9823c-9a80-4595-cf0a-e79957a86ad9"
      },
      "execution_count": null,
      "outputs": [
        {
          "output_type": "execute_result",
          "data": {
            "text/plain": [
              "overall              0.000000\n",
              "verified             0.000000\n",
              "reviewerID           0.000000\n",
              "asin                 0.000000\n",
              "style               46.364662\n",
              "reviewerName         0.017901\n",
              "reviewText           0.073553\n",
              "summary              0.047765\n",
              "vote                91.844117\n",
              "image               97.597828\n",
              "review_sentiment     0.000000\n",
              "Date&Time            0.000000\n",
              "dtype: float64"
            ]
          },
          "metadata": {},
          "execution_count": 166
        }
      ]
    },
    {
      "cell_type": "markdown",
      "source": [
        "Dropping the rows containing null values of Style column."
      ],
      "metadata": {
        "id": "y0a_HUawoDGR"
      }
    },
    {
      "cell_type": "code",
      "source": [
        "df_phonedata=df_phonedata[~df_phonedata['style'].isnull()]"
      ],
      "metadata": {
        "id": "yk8R2XdSncaa"
      },
      "execution_count": null,
      "outputs": []
    },
    {
      "cell_type": "markdown",
      "source": [
        "Dropping the column with higher null values."
      ],
      "metadata": {
        "id": "8mxKJ0TEolS2"
      }
    },
    {
      "cell_type": "code",
      "source": [
        "df_phonedata.drop(['vote','image'], axis = 1, inplace = True)"
      ],
      "metadata": {
        "id": "pSVsvQpMnbyf"
      },
      "execution_count": null,
      "outputs": []
    },
    {
      "cell_type": "code",
      "execution_count": null,
      "metadata": {
        "id": "BikWjsOuW4r0",
        "colab": {
          "base_uri": "https://localhost:8080/",
          "height": 196
        },
        "outputId": "1245638d-9408-405e-a48f-860659e5ded9"
      },
      "outputs": [
        {
          "output_type": "execute_result",
          "data": {
            "text/plain": [
              "     overall  verified      reviewerID        asin                 style  \\\n",
              "0        5.0      True  A24E3SXTC62LJI  7508492919  {'Color:': ' Bling'}   \n",
              "226      5.0      True  A1TNHWAM2GJ08G  961301375X  {'Color:': ' White'}   \n",
              "227      5.0      True   AXGPQOWI0CF39  961301375X  {'Color:': ' White'}   \n",
              "\n",
              "         reviewerName  \\\n",
              "0    Claudia Valdivia   \n",
              "226        P. Latella   \n",
              "227             TimB.   \n",
              "\n",
              "                                                                                              reviewText  \\\n",
              "0    Looks even better in person. Be careful to not drop your phone so often because the rhinestones ...   \n",
              "226  this charger is amazing. Fantastic long cord and it charges the phone beautifully. I bought anot...   \n",
              "227  I am very satisfied with this product! It came in the appropriate packaging. It was also a very ...   \n",
              "\n",
              "                                 summary review_sentiment   Date&Time  \n",
              "0    Can't stop won't stop looking at it         POSITIVE  2014-08-03  \n",
              "226                  Perfect works great         POSITIVE  2014-02-10  \n",
              "227              Very Nice Looking Item!         POSITIVE  2014-01-31  "
            ],
            "text/html": [
              "\n",
              "  <div id=\"df-373f0db6-4493-4ccc-9b55-b1fad3986096\" class=\"colab-df-container\">\n",
              "    <div>\n",
              "<style scoped>\n",
              "    .dataframe tbody tr th:only-of-type {\n",
              "        vertical-align: middle;\n",
              "    }\n",
              "\n",
              "    .dataframe tbody tr th {\n",
              "        vertical-align: top;\n",
              "    }\n",
              "\n",
              "    .dataframe thead th {\n",
              "        text-align: right;\n",
              "    }\n",
              "</style>\n",
              "<table border=\"1\" class=\"dataframe\">\n",
              "  <thead>\n",
              "    <tr style=\"text-align: right;\">\n",
              "      <th></th>\n",
              "      <th>overall</th>\n",
              "      <th>verified</th>\n",
              "      <th>reviewerID</th>\n",
              "      <th>asin</th>\n",
              "      <th>style</th>\n",
              "      <th>reviewerName</th>\n",
              "      <th>reviewText</th>\n",
              "      <th>summary</th>\n",
              "      <th>review_sentiment</th>\n",
              "      <th>Date&amp;Time</th>\n",
              "    </tr>\n",
              "  </thead>\n",
              "  <tbody>\n",
              "    <tr>\n",
              "      <th>0</th>\n",
              "      <td>5.0</td>\n",
              "      <td>True</td>\n",
              "      <td>A24E3SXTC62LJI</td>\n",
              "      <td>7508492919</td>\n",
              "      <td>{'Color:': ' Bling'}</td>\n",
              "      <td>Claudia Valdivia</td>\n",
              "      <td>Looks even better in person. Be careful to not drop your phone so often because the rhinestones ...</td>\n",
              "      <td>Can't stop won't stop looking at it</td>\n",
              "      <td>POSITIVE</td>\n",
              "      <td>2014-08-03</td>\n",
              "    </tr>\n",
              "    <tr>\n",
              "      <th>226</th>\n",
              "      <td>5.0</td>\n",
              "      <td>True</td>\n",
              "      <td>A1TNHWAM2GJ08G</td>\n",
              "      <td>961301375X</td>\n",
              "      <td>{'Color:': ' White'}</td>\n",
              "      <td>P. Latella</td>\n",
              "      <td>this charger is amazing. Fantastic long cord and it charges the phone beautifully. I bought anot...</td>\n",
              "      <td>Perfect works great</td>\n",
              "      <td>POSITIVE</td>\n",
              "      <td>2014-02-10</td>\n",
              "    </tr>\n",
              "    <tr>\n",
              "      <th>227</th>\n",
              "      <td>5.0</td>\n",
              "      <td>True</td>\n",
              "      <td>AXGPQOWI0CF39</td>\n",
              "      <td>961301375X</td>\n",
              "      <td>{'Color:': ' White'}</td>\n",
              "      <td>TimB.</td>\n",
              "      <td>I am very satisfied with this product! It came in the appropriate packaging. It was also a very ...</td>\n",
              "      <td>Very Nice Looking Item!</td>\n",
              "      <td>POSITIVE</td>\n",
              "      <td>2014-01-31</td>\n",
              "    </tr>\n",
              "  </tbody>\n",
              "</table>\n",
              "</div>\n",
              "    <div class=\"colab-df-buttons\">\n",
              "\n",
              "  <div class=\"colab-df-container\">\n",
              "    <button class=\"colab-df-convert\" onclick=\"convertToInteractive('df-373f0db6-4493-4ccc-9b55-b1fad3986096')\"\n",
              "            title=\"Convert this dataframe to an interactive table.\"\n",
              "            style=\"display:none;\">\n",
              "\n",
              "  <svg xmlns=\"http://www.w3.org/2000/svg\" height=\"24px\" viewBox=\"0 -960 960 960\">\n",
              "    <path d=\"M120-120v-720h720v720H120Zm60-500h600v-160H180v160Zm220 220h160v-160H400v160Zm0 220h160v-160H400v160ZM180-400h160v-160H180v160Zm440 0h160v-160H620v160ZM180-180h160v-160H180v160Zm440 0h160v-160H620v160Z\"/>\n",
              "  </svg>\n",
              "    </button>\n",
              "\n",
              "  <style>\n",
              "    .colab-df-container {\n",
              "      display:flex;\n",
              "      gap: 12px;\n",
              "    }\n",
              "\n",
              "    .colab-df-convert {\n",
              "      background-color: #E8F0FE;\n",
              "      border: none;\n",
              "      border-radius: 50%;\n",
              "      cursor: pointer;\n",
              "      display: none;\n",
              "      fill: #1967D2;\n",
              "      height: 32px;\n",
              "      padding: 0 0 0 0;\n",
              "      width: 32px;\n",
              "    }\n",
              "\n",
              "    .colab-df-convert:hover {\n",
              "      background-color: #E2EBFA;\n",
              "      box-shadow: 0px 1px 2px rgba(60, 64, 67, 0.3), 0px 1px 3px 1px rgba(60, 64, 67, 0.15);\n",
              "      fill: #174EA6;\n",
              "    }\n",
              "\n",
              "    .colab-df-buttons div {\n",
              "      margin-bottom: 4px;\n",
              "    }\n",
              "\n",
              "    [theme=dark] .colab-df-convert {\n",
              "      background-color: #3B4455;\n",
              "      fill: #D2E3FC;\n",
              "    }\n",
              "\n",
              "    [theme=dark] .colab-df-convert:hover {\n",
              "      background-color: #434B5C;\n",
              "      box-shadow: 0px 1px 3px 1px rgba(0, 0, 0, 0.15);\n",
              "      filter: drop-shadow(0px 1px 2px rgba(0, 0, 0, 0.3));\n",
              "      fill: #FFFFFF;\n",
              "    }\n",
              "  </style>\n",
              "\n",
              "    <script>\n",
              "      const buttonEl =\n",
              "        document.querySelector('#df-373f0db6-4493-4ccc-9b55-b1fad3986096 button.colab-df-convert');\n",
              "      buttonEl.style.display =\n",
              "        google.colab.kernel.accessAllowed ? 'block' : 'none';\n",
              "\n",
              "      async function convertToInteractive(key) {\n",
              "        const element = document.querySelector('#df-373f0db6-4493-4ccc-9b55-b1fad3986096');\n",
              "        const dataTable =\n",
              "          await google.colab.kernel.invokeFunction('convertToInteractive',\n",
              "                                                    [key], {});\n",
              "        if (!dataTable) return;\n",
              "\n",
              "        const docLinkHtml = 'Like what you see? Visit the ' +\n",
              "          '<a target=\"_blank\" href=https://colab.research.google.com/notebooks/data_table.ipynb>data table notebook</a>'\n",
              "          + ' to learn more about interactive tables.';\n",
              "        element.innerHTML = '';\n",
              "        dataTable['output_type'] = 'display_data';\n",
              "        await google.colab.output.renderOutput(dataTable, element);\n",
              "        const docLink = document.createElement('div');\n",
              "        docLink.innerHTML = docLinkHtml;\n",
              "        element.appendChild(docLink);\n",
              "      }\n",
              "    </script>\n",
              "  </div>\n",
              "\n",
              "\n",
              "<div id=\"df-1c3dd709-e5cf-4c44-8401-92dc15723af8\">\n",
              "  <button class=\"colab-df-quickchart\" onclick=\"quickchart('df-1c3dd709-e5cf-4c44-8401-92dc15723af8')\"\n",
              "            title=\"Suggest charts\"\n",
              "            style=\"display:none;\">\n",
              "\n",
              "<svg xmlns=\"http://www.w3.org/2000/svg\" height=\"24px\"viewBox=\"0 0 24 24\"\n",
              "     width=\"24px\">\n",
              "    <g>\n",
              "        <path d=\"M19 3H5c-1.1 0-2 .9-2 2v14c0 1.1.9 2 2 2h14c1.1 0 2-.9 2-2V5c0-1.1-.9-2-2-2zM9 17H7v-7h2v7zm4 0h-2V7h2v10zm4 0h-2v-4h2v4z\"/>\n",
              "    </g>\n",
              "</svg>\n",
              "  </button>\n",
              "\n",
              "<style>\n",
              "  .colab-df-quickchart {\n",
              "      --bg-color: #E8F0FE;\n",
              "      --fill-color: #1967D2;\n",
              "      --hover-bg-color: #E2EBFA;\n",
              "      --hover-fill-color: #174EA6;\n",
              "      --disabled-fill-color: #AAA;\n",
              "      --disabled-bg-color: #DDD;\n",
              "  }\n",
              "\n",
              "  [theme=dark] .colab-df-quickchart {\n",
              "      --bg-color: #3B4455;\n",
              "      --fill-color: #D2E3FC;\n",
              "      --hover-bg-color: #434B5C;\n",
              "      --hover-fill-color: #FFFFFF;\n",
              "      --disabled-bg-color: #3B4455;\n",
              "      --disabled-fill-color: #666;\n",
              "  }\n",
              "\n",
              "  .colab-df-quickchart {\n",
              "    background-color: var(--bg-color);\n",
              "    border: none;\n",
              "    border-radius: 50%;\n",
              "    cursor: pointer;\n",
              "    display: none;\n",
              "    fill: var(--fill-color);\n",
              "    height: 32px;\n",
              "    padding: 0;\n",
              "    width: 32px;\n",
              "  }\n",
              "\n",
              "  .colab-df-quickchart:hover {\n",
              "    background-color: var(--hover-bg-color);\n",
              "    box-shadow: 0 1px 2px rgba(60, 64, 67, 0.3), 0 1px 3px 1px rgba(60, 64, 67, 0.15);\n",
              "    fill: var(--button-hover-fill-color);\n",
              "  }\n",
              "\n",
              "  .colab-df-quickchart-complete:disabled,\n",
              "  .colab-df-quickchart-complete:disabled:hover {\n",
              "    background-color: var(--disabled-bg-color);\n",
              "    fill: var(--disabled-fill-color);\n",
              "    box-shadow: none;\n",
              "  }\n",
              "\n",
              "  .colab-df-spinner {\n",
              "    border: 2px solid var(--fill-color);\n",
              "    border-color: transparent;\n",
              "    border-bottom-color: var(--fill-color);\n",
              "    animation:\n",
              "      spin 1s steps(1) infinite;\n",
              "  }\n",
              "\n",
              "  @keyframes spin {\n",
              "    0% {\n",
              "      border-color: transparent;\n",
              "      border-bottom-color: var(--fill-color);\n",
              "      border-left-color: var(--fill-color);\n",
              "    }\n",
              "    20% {\n",
              "      border-color: transparent;\n",
              "      border-left-color: var(--fill-color);\n",
              "      border-top-color: var(--fill-color);\n",
              "    }\n",
              "    30% {\n",
              "      border-color: transparent;\n",
              "      border-left-color: var(--fill-color);\n",
              "      border-top-color: var(--fill-color);\n",
              "      border-right-color: var(--fill-color);\n",
              "    }\n",
              "    40% {\n",
              "      border-color: transparent;\n",
              "      border-right-color: var(--fill-color);\n",
              "      border-top-color: var(--fill-color);\n",
              "    }\n",
              "    60% {\n",
              "      border-color: transparent;\n",
              "      border-right-color: var(--fill-color);\n",
              "    }\n",
              "    80% {\n",
              "      border-color: transparent;\n",
              "      border-right-color: var(--fill-color);\n",
              "      border-bottom-color: var(--fill-color);\n",
              "    }\n",
              "    90% {\n",
              "      border-color: transparent;\n",
              "      border-bottom-color: var(--fill-color);\n",
              "    }\n",
              "  }\n",
              "</style>\n",
              "\n",
              "  <script>\n",
              "    async function quickchart(key) {\n",
              "      const quickchartButtonEl =\n",
              "        document.querySelector('#' + key + ' button');\n",
              "      quickchartButtonEl.disabled = true;  // To prevent multiple clicks.\n",
              "      quickchartButtonEl.classList.add('colab-df-spinner');\n",
              "      try {\n",
              "        const charts = await google.colab.kernel.invokeFunction(\n",
              "            'suggestCharts', [key], {});\n",
              "      } catch (error) {\n",
              "        console.error('Error during call to suggestCharts:', error);\n",
              "      }\n",
              "      quickchartButtonEl.classList.remove('colab-df-spinner');\n",
              "      quickchartButtonEl.classList.add('colab-df-quickchart-complete');\n",
              "    }\n",
              "    (() => {\n",
              "      let quickchartButtonEl =\n",
              "        document.querySelector('#df-1c3dd709-e5cf-4c44-8401-92dc15723af8 button');\n",
              "      quickchartButtonEl.style.display =\n",
              "        google.colab.kernel.accessAllowed ? 'block' : 'none';\n",
              "    })();\n",
              "  </script>\n",
              "</div>\n",
              "\n",
              "    </div>\n",
              "  </div>\n"
            ],
            "application/vnd.google.colaboratory.intrinsic+json": {
              "type": "dataframe",
              "variable_name": "df_phonedata"
            }
          },
          "metadata": {},
          "execution_count": 16
        }
      ],
      "source": [
        "df_phonedata.head(3)"
      ]
    },
    {
      "cell_type": "code",
      "source": [
        "df_phonedata.shape"
      ],
      "metadata": {
        "colab": {
          "base_uri": "https://localhost:8080/"
        },
        "id": "qvtdjztuwyfn",
        "outputId": "a0310d3e-a5ff-4f2f-9118-09ab880ec100"
      },
      "execution_count": null,
      "outputs": [
        {
          "output_type": "execute_result",
          "data": {
            "text/plain": [
              "(605241, 10)"
            ]
          },
          "metadata": {},
          "execution_count": 17
        }
      ]
    },
    {
      "cell_type": "code",
      "source": [
        "df_phonedata.isnull().mean()*100"
      ],
      "metadata": {
        "colab": {
          "base_uri": "https://localhost:8080/"
        },
        "id": "E_BQrnQnyLpD",
        "outputId": "693bac8b-9756-4b23-c5f2-df10ed832b1a"
      },
      "execution_count": null,
      "outputs": [
        {
          "output_type": "execute_result",
          "data": {
            "text/plain": [
              "overall             0.000000\n",
              "verified            0.000000\n",
              "reviewerID          0.000000\n",
              "asin                0.000000\n",
              "style               0.000000\n",
              "reviewerName        0.018009\n",
              "reviewText          0.078151\n",
              "summary             0.054689\n",
              "review_sentiment    0.000000\n",
              "Date&Time           0.000000\n",
              "dtype: float64"
            ]
          },
          "metadata": {},
          "execution_count": 171
        }
      ]
    },
    {
      "cell_type": "code",
      "source": [
        "# Dropping the rows with null counts of review text\n",
        "df_phonedata = df_phonedata[df_phonedata['reviewText'].notna()]"
      ],
      "metadata": {
        "id": "WTXSBs9nyT3u"
      },
      "execution_count": null,
      "outputs": []
    },
    {
      "cell_type": "code",
      "source": [
        "df_phonedata.isnull().mean()*100"
      ],
      "metadata": {
        "colab": {
          "base_uri": "https://localhost:8080/"
        },
        "id": "WKRsAxNty0td",
        "outputId": "ab1bf25a-fcb8-4601-f688-29ffc6883551"
      },
      "execution_count": null,
      "outputs": [
        {
          "output_type": "execute_result",
          "data": {
            "text/plain": [
              "overall             0.000000\n",
              "verified            0.000000\n",
              "reviewerID          0.000000\n",
              "asin                0.000000\n",
              "style               0.000000\n",
              "reviewerName        0.018023\n",
              "reviewText          0.000000\n",
              "summary             0.048614\n",
              "review_sentiment    0.000000\n",
              "Date&Time           0.000000\n",
              "dtype: float64"
            ]
          },
          "metadata": {},
          "execution_count": 19
        }
      ]
    },
    {
      "cell_type": "code",
      "source": [
        "# Dropping the rows with null counts of summary\n",
        "df_phonedata = df_phonedata[df_phonedata['summary'].notna()]"
      ],
      "metadata": {
        "id": "NhLr0Aaly7VO"
      },
      "execution_count": null,
      "outputs": []
    },
    {
      "cell_type": "code",
      "source": [
        "df_phonedata.isnull().mean()*100"
      ],
      "metadata": {
        "colab": {
          "base_uri": "https://localhost:8080/"
        },
        "id": "FytH5UYKzHML",
        "outputId": "da765ac1-65ba-4bf4-8a67-5195146d6612"
      },
      "execution_count": null,
      "outputs": [
        {
          "output_type": "execute_result",
          "data": {
            "text/plain": [
              "overall             0.000000\n",
              "verified            0.000000\n",
              "reviewerID          0.000000\n",
              "asin                0.000000\n",
              "style               0.000000\n",
              "reviewerName        0.017867\n",
              "reviewText          0.000000\n",
              "summary             0.000000\n",
              "review_sentiment    0.000000\n",
              "Date&Time           0.000000\n",
              "dtype: float64"
            ]
          },
          "metadata": {},
          "execution_count": 175
        }
      ]
    },
    {
      "cell_type": "markdown",
      "source": [
        "##### Null values of all columns are very  minimal now."
      ],
      "metadata": {
        "id": "O7R97PPNzKkg"
      }
    },
    {
      "cell_type": "code",
      "source": [
        "#reading meta1.csv file\n",
        "df_meta=pd.read_csv('/content/drive/MyDrive/capstone/meta1.csv')"
      ],
      "metadata": {
        "colab": {
          "base_uri": "https://localhost:8080/"
        },
        "id": "1dvRtroiPhHQ",
        "outputId": "ee706b7a-99d7-408b-abd7-2078e9b30857"
      },
      "execution_count": null,
      "outputs": [
        {
          "output_type": "stream",
          "name": "stderr",
          "text": [
            "<ipython-input-20-b1a75eeb77d0>:2: DtypeWarning: Columns (4,8) have mixed types. Specify dtype option on import or set low_memory=False.\n",
            "  df_meta=pd.read_csv('/content/drive/MyDrive/capstone/meta1.csv')\n"
          ]
        }
      ]
    },
    {
      "cell_type": "code",
      "source": [
        "df_meta.head(3)"
      ],
      "metadata": {
        "colab": {
          "base_uri": "https://localhost:8080/",
          "height": 563
        },
        "id": "ffig1NMZw8Sh",
        "outputId": "9ed9fb1b-1df3-44f7-ceb5-e67489cc5e2e"
      },
      "execution_count": null,
      "outputs": [
        {
          "output_type": "execute_result",
          "data": {
            "text/plain": [
              "   Unnamed: 0  \\\n",
              "0           0   \n",
              "1           1   \n",
              "2           2   \n",
              "\n",
              "                                                                                  category  \\\n",
              "0                        ['Cell Phones & Accessories', 'Accessories', 'Screen Protectors']   \n",
              "1  ['Cell Phones & Accessories', 'Accessories', 'Car Accessories', 'Car Cradles & Mounts']   \n",
              "2                               ['Cell Phones & Accessories', 'Cases, Holsters & Sleeves']   \n",
              "\n",
              "  tech1  \\\n",
              "0   NaN   \n",
              "1   NaN   \n",
              "2   NaN   \n",
              "\n",
              "                                                                             description  \\\n",
              "0                                                                                     []   \n",
              "1                                                                                     []   \n",
              "2  ['New items to give you a new good mood, welcome to you have a happy shopping trip.']   \n",
              "\n",
              "   fit  \\\n",
              "0  NaN   \n",
              "1  NaN   \n",
              "2  NaN   \n",
              "\n",
              "                                                                                                 title  \\\n",
              "0                                                                       Trollies Sing a Long Party VHS   \n",
              "1                                                                                          La Pura VHS   \n",
              "2  Leopard Thanksgiving Easter PC Black Case for Masterpiece Limited Design iphone 6 by Cases &amp;...   \n",
              "\n",
              "  also_buy image tech2            brand feature                        rank  \\\n",
              "0       []    []   NaN              NaN      []    557,379 in Movies & TV (   \n",
              "1       []    []   NaN  Maribel Guardia      []  1,024,449 in Movies & TV (   \n",
              "2       []    []   NaN              NaN      []        5,315,017 in Books (   \n",
              "\n",
              "  also_view  \\\n",
              "0        []   \n",
              "1        []   \n",
              "2        []   \n",
              "\n",
              "                                                                                               details  \\\n",
              "0                                                                             {'ASIN: ': '6303195164'}   \n",
              "1                                                                             {'ASIN: ': '630524412X'}   \n",
              "2  {'Publisher:': 'juduiou', 'ASIN:': '6310200240', '\\\\n    Product Dimensions: \\\\n    ': '11.5 x 1...   \n",
              "\n",
              "      main_cat similar_item date price        asin  \n",
              "0  Movies & TV          NaN  NaN   NaN  6303195164  \n",
              "1  Movies & TV          NaN  NaN   NaN  630524412X  \n",
              "2        Books          NaN  NaN   NaN  6310200240  "
            ],
            "text/html": [
              "\n",
              "  <div id=\"df-45333365-b905-453e-8585-32bca8752ed9\" class=\"colab-df-container\">\n",
              "    <div>\n",
              "<style scoped>\n",
              "    .dataframe tbody tr th:only-of-type {\n",
              "        vertical-align: middle;\n",
              "    }\n",
              "\n",
              "    .dataframe tbody tr th {\n",
              "        vertical-align: top;\n",
              "    }\n",
              "\n",
              "    .dataframe thead th {\n",
              "        text-align: right;\n",
              "    }\n",
              "</style>\n",
              "<table border=\"1\" class=\"dataframe\">\n",
              "  <thead>\n",
              "    <tr style=\"text-align: right;\">\n",
              "      <th></th>\n",
              "      <th>Unnamed: 0</th>\n",
              "      <th>category</th>\n",
              "      <th>tech1</th>\n",
              "      <th>description</th>\n",
              "      <th>fit</th>\n",
              "      <th>title</th>\n",
              "      <th>also_buy</th>\n",
              "      <th>image</th>\n",
              "      <th>tech2</th>\n",
              "      <th>brand</th>\n",
              "      <th>feature</th>\n",
              "      <th>rank</th>\n",
              "      <th>also_view</th>\n",
              "      <th>details</th>\n",
              "      <th>main_cat</th>\n",
              "      <th>similar_item</th>\n",
              "      <th>date</th>\n",
              "      <th>price</th>\n",
              "      <th>asin</th>\n",
              "    </tr>\n",
              "  </thead>\n",
              "  <tbody>\n",
              "    <tr>\n",
              "      <th>0</th>\n",
              "      <td>0</td>\n",
              "      <td>['Cell Phones &amp; Accessories', 'Accessories', 'Screen Protectors']</td>\n",
              "      <td>NaN</td>\n",
              "      <td>[]</td>\n",
              "      <td>NaN</td>\n",
              "      <td>Trollies Sing a Long Party VHS</td>\n",
              "      <td>[]</td>\n",
              "      <td>[]</td>\n",
              "      <td>NaN</td>\n",
              "      <td>NaN</td>\n",
              "      <td>[]</td>\n",
              "      <td>557,379 in Movies &amp; TV (</td>\n",
              "      <td>[]</td>\n",
              "      <td>{'ASIN: ': '6303195164'}</td>\n",
              "      <td>Movies &amp; TV</td>\n",
              "      <td>NaN</td>\n",
              "      <td>NaN</td>\n",
              "      <td>NaN</td>\n",
              "      <td>6303195164</td>\n",
              "    </tr>\n",
              "    <tr>\n",
              "      <th>1</th>\n",
              "      <td>1</td>\n",
              "      <td>['Cell Phones &amp; Accessories', 'Accessories', 'Car Accessories', 'Car Cradles &amp; Mounts']</td>\n",
              "      <td>NaN</td>\n",
              "      <td>[]</td>\n",
              "      <td>NaN</td>\n",
              "      <td>La Pura VHS</td>\n",
              "      <td>[]</td>\n",
              "      <td>[]</td>\n",
              "      <td>NaN</td>\n",
              "      <td>Maribel Guardia</td>\n",
              "      <td>[]</td>\n",
              "      <td>1,024,449 in Movies &amp; TV (</td>\n",
              "      <td>[]</td>\n",
              "      <td>{'ASIN: ': '630524412X'}</td>\n",
              "      <td>Movies &amp; TV</td>\n",
              "      <td>NaN</td>\n",
              "      <td>NaN</td>\n",
              "      <td>NaN</td>\n",
              "      <td>630524412X</td>\n",
              "    </tr>\n",
              "    <tr>\n",
              "      <th>2</th>\n",
              "      <td>2</td>\n",
              "      <td>['Cell Phones &amp; Accessories', 'Cases, Holsters &amp; Sleeves']</td>\n",
              "      <td>NaN</td>\n",
              "      <td>['New items to give you a new good mood, welcome to you have a happy shopping trip.']</td>\n",
              "      <td>NaN</td>\n",
              "      <td>Leopard Thanksgiving Easter PC Black Case for Masterpiece Limited Design iphone 6 by Cases &amp;amp;...</td>\n",
              "      <td>[]</td>\n",
              "      <td>[]</td>\n",
              "      <td>NaN</td>\n",
              "      <td>NaN</td>\n",
              "      <td>[]</td>\n",
              "      <td>5,315,017 in Books (</td>\n",
              "      <td>[]</td>\n",
              "      <td>{'Publisher:': 'juduiou', 'ASIN:': '6310200240', '\\\\n    Product Dimensions: \\\\n    ': '11.5 x 1...</td>\n",
              "      <td>Books</td>\n",
              "      <td>NaN</td>\n",
              "      <td>NaN</td>\n",
              "      <td>NaN</td>\n",
              "      <td>6310200240</td>\n",
              "    </tr>\n",
              "  </tbody>\n",
              "</table>\n",
              "</div>\n",
              "    <div class=\"colab-df-buttons\">\n",
              "\n",
              "  <div class=\"colab-df-container\">\n",
              "    <button class=\"colab-df-convert\" onclick=\"convertToInteractive('df-45333365-b905-453e-8585-32bca8752ed9')\"\n",
              "            title=\"Convert this dataframe to an interactive table.\"\n",
              "            style=\"display:none;\">\n",
              "\n",
              "  <svg xmlns=\"http://www.w3.org/2000/svg\" height=\"24px\" viewBox=\"0 -960 960 960\">\n",
              "    <path d=\"M120-120v-720h720v720H120Zm60-500h600v-160H180v160Zm220 220h160v-160H400v160Zm0 220h160v-160H400v160ZM180-400h160v-160H180v160Zm440 0h160v-160H620v160ZM180-180h160v-160H180v160Zm440 0h160v-160H620v160Z\"/>\n",
              "  </svg>\n",
              "    </button>\n",
              "\n",
              "  <style>\n",
              "    .colab-df-container {\n",
              "      display:flex;\n",
              "      gap: 12px;\n",
              "    }\n",
              "\n",
              "    .colab-df-convert {\n",
              "      background-color: #E8F0FE;\n",
              "      border: none;\n",
              "      border-radius: 50%;\n",
              "      cursor: pointer;\n",
              "      display: none;\n",
              "      fill: #1967D2;\n",
              "      height: 32px;\n",
              "      padding: 0 0 0 0;\n",
              "      width: 32px;\n",
              "    }\n",
              "\n",
              "    .colab-df-convert:hover {\n",
              "      background-color: #E2EBFA;\n",
              "      box-shadow: 0px 1px 2px rgba(60, 64, 67, 0.3), 0px 1px 3px 1px rgba(60, 64, 67, 0.15);\n",
              "      fill: #174EA6;\n",
              "    }\n",
              "\n",
              "    .colab-df-buttons div {\n",
              "      margin-bottom: 4px;\n",
              "    }\n",
              "\n",
              "    [theme=dark] .colab-df-convert {\n",
              "      background-color: #3B4455;\n",
              "      fill: #D2E3FC;\n",
              "    }\n",
              "\n",
              "    [theme=dark] .colab-df-convert:hover {\n",
              "      background-color: #434B5C;\n",
              "      box-shadow: 0px 1px 3px 1px rgba(0, 0, 0, 0.15);\n",
              "      filter: drop-shadow(0px 1px 2px rgba(0, 0, 0, 0.3));\n",
              "      fill: #FFFFFF;\n",
              "    }\n",
              "  </style>\n",
              "\n",
              "    <script>\n",
              "      const buttonEl =\n",
              "        document.querySelector('#df-45333365-b905-453e-8585-32bca8752ed9 button.colab-df-convert');\n",
              "      buttonEl.style.display =\n",
              "        google.colab.kernel.accessAllowed ? 'block' : 'none';\n",
              "\n",
              "      async function convertToInteractive(key) {\n",
              "        const element = document.querySelector('#df-45333365-b905-453e-8585-32bca8752ed9');\n",
              "        const dataTable =\n",
              "          await google.colab.kernel.invokeFunction('convertToInteractive',\n",
              "                                                    [key], {});\n",
              "        if (!dataTable) return;\n",
              "\n",
              "        const docLinkHtml = 'Like what you see? Visit the ' +\n",
              "          '<a target=\"_blank\" href=https://colab.research.google.com/notebooks/data_table.ipynb>data table notebook</a>'\n",
              "          + ' to learn more about interactive tables.';\n",
              "        element.innerHTML = '';\n",
              "        dataTable['output_type'] = 'display_data';\n",
              "        await google.colab.output.renderOutput(dataTable, element);\n",
              "        const docLink = document.createElement('div');\n",
              "        docLink.innerHTML = docLinkHtml;\n",
              "        element.appendChild(docLink);\n",
              "      }\n",
              "    </script>\n",
              "  </div>\n",
              "\n",
              "\n",
              "<div id=\"df-1b694a83-0a7a-4a96-8b81-111abd617351\">\n",
              "  <button class=\"colab-df-quickchart\" onclick=\"quickchart('df-1b694a83-0a7a-4a96-8b81-111abd617351')\"\n",
              "            title=\"Suggest charts\"\n",
              "            style=\"display:none;\">\n",
              "\n",
              "<svg xmlns=\"http://www.w3.org/2000/svg\" height=\"24px\"viewBox=\"0 0 24 24\"\n",
              "     width=\"24px\">\n",
              "    <g>\n",
              "        <path d=\"M19 3H5c-1.1 0-2 .9-2 2v14c0 1.1.9 2 2 2h14c1.1 0 2-.9 2-2V5c0-1.1-.9-2-2-2zM9 17H7v-7h2v7zm4 0h-2V7h2v10zm4 0h-2v-4h2v4z\"/>\n",
              "    </g>\n",
              "</svg>\n",
              "  </button>\n",
              "\n",
              "<style>\n",
              "  .colab-df-quickchart {\n",
              "      --bg-color: #E8F0FE;\n",
              "      --fill-color: #1967D2;\n",
              "      --hover-bg-color: #E2EBFA;\n",
              "      --hover-fill-color: #174EA6;\n",
              "      --disabled-fill-color: #AAA;\n",
              "      --disabled-bg-color: #DDD;\n",
              "  }\n",
              "\n",
              "  [theme=dark] .colab-df-quickchart {\n",
              "      --bg-color: #3B4455;\n",
              "      --fill-color: #D2E3FC;\n",
              "      --hover-bg-color: #434B5C;\n",
              "      --hover-fill-color: #FFFFFF;\n",
              "      --disabled-bg-color: #3B4455;\n",
              "      --disabled-fill-color: #666;\n",
              "  }\n",
              "\n",
              "  .colab-df-quickchart {\n",
              "    background-color: var(--bg-color);\n",
              "    border: none;\n",
              "    border-radius: 50%;\n",
              "    cursor: pointer;\n",
              "    display: none;\n",
              "    fill: var(--fill-color);\n",
              "    height: 32px;\n",
              "    padding: 0;\n",
              "    width: 32px;\n",
              "  }\n",
              "\n",
              "  .colab-df-quickchart:hover {\n",
              "    background-color: var(--hover-bg-color);\n",
              "    box-shadow: 0 1px 2px rgba(60, 64, 67, 0.3), 0 1px 3px 1px rgba(60, 64, 67, 0.15);\n",
              "    fill: var(--button-hover-fill-color);\n",
              "  }\n",
              "\n",
              "  .colab-df-quickchart-complete:disabled,\n",
              "  .colab-df-quickchart-complete:disabled:hover {\n",
              "    background-color: var(--disabled-bg-color);\n",
              "    fill: var(--disabled-fill-color);\n",
              "    box-shadow: none;\n",
              "  }\n",
              "\n",
              "  .colab-df-spinner {\n",
              "    border: 2px solid var(--fill-color);\n",
              "    border-color: transparent;\n",
              "    border-bottom-color: var(--fill-color);\n",
              "    animation:\n",
              "      spin 1s steps(1) infinite;\n",
              "  }\n",
              "\n",
              "  @keyframes spin {\n",
              "    0% {\n",
              "      border-color: transparent;\n",
              "      border-bottom-color: var(--fill-color);\n",
              "      border-left-color: var(--fill-color);\n",
              "    }\n",
              "    20% {\n",
              "      border-color: transparent;\n",
              "      border-left-color: var(--fill-color);\n",
              "      border-top-color: var(--fill-color);\n",
              "    }\n",
              "    30% {\n",
              "      border-color: transparent;\n",
              "      border-left-color: var(--fill-color);\n",
              "      border-top-color: var(--fill-color);\n",
              "      border-right-color: var(--fill-color);\n",
              "    }\n",
              "    40% {\n",
              "      border-color: transparent;\n",
              "      border-right-color: var(--fill-color);\n",
              "      border-top-color: var(--fill-color);\n",
              "    }\n",
              "    60% {\n",
              "      border-color: transparent;\n",
              "      border-right-color: var(--fill-color);\n",
              "    }\n",
              "    80% {\n",
              "      border-color: transparent;\n",
              "      border-right-color: var(--fill-color);\n",
              "      border-bottom-color: var(--fill-color);\n",
              "    }\n",
              "    90% {\n",
              "      border-color: transparent;\n",
              "      border-bottom-color: var(--fill-color);\n",
              "    }\n",
              "  }\n",
              "</style>\n",
              "\n",
              "  <script>\n",
              "    async function quickchart(key) {\n",
              "      const quickchartButtonEl =\n",
              "        document.querySelector('#' + key + ' button');\n",
              "      quickchartButtonEl.disabled = true;  // To prevent multiple clicks.\n",
              "      quickchartButtonEl.classList.add('colab-df-spinner');\n",
              "      try {\n",
              "        const charts = await google.colab.kernel.invokeFunction(\n",
              "            'suggestCharts', [key], {});\n",
              "      } catch (error) {\n",
              "        console.error('Error during call to suggestCharts:', error);\n",
              "      }\n",
              "      quickchartButtonEl.classList.remove('colab-df-spinner');\n",
              "      quickchartButtonEl.classList.add('colab-df-quickchart-complete');\n",
              "    }\n",
              "    (() => {\n",
              "      let quickchartButtonEl =\n",
              "        document.querySelector('#df-1b694a83-0a7a-4a96-8b81-111abd617351 button');\n",
              "      quickchartButtonEl.style.display =\n",
              "        google.colab.kernel.accessAllowed ? 'block' : 'none';\n",
              "    })();\n",
              "  </script>\n",
              "</div>\n",
              "\n",
              "    </div>\n",
              "  </div>\n"
            ],
            "application/vnd.google.colaboratory.intrinsic+json": {
              "type": "dataframe",
              "variable_name": "df_meta"
            }
          },
          "metadata": {},
          "execution_count": 22
        }
      ]
    },
    {
      "cell_type": "code",
      "source": [
        "df_meta.info()"
      ],
      "metadata": {
        "colab": {
          "base_uri": "https://localhost:8080/"
        },
        "id": "JWubybnsw8IG",
        "outputId": "08c17411-2466-45e2-d9ab-a85bcb30cd22"
      },
      "execution_count": null,
      "outputs": [
        {
          "output_type": "stream",
          "name": "stdout",
          "text": [
            "<class 'pandas.core.frame.DataFrame'>\n",
            "RangeIndex: 590071 entries, 0 to 590070\n",
            "Data columns (total 19 columns):\n",
            " #   Column        Non-Null Count   Dtype \n",
            "---  ------        --------------   ----- \n",
            " 0   Unnamed: 0    590071 non-null  int64 \n",
            " 1   category      590071 non-null  object\n",
            " 2   tech1         6585 non-null    object\n",
            " 3   description   590071 non-null  object\n",
            " 4   fit           43 non-null      object\n",
            " 5   title         590062 non-null  object\n",
            " 6   also_buy      590071 non-null  object\n",
            " 7   image         590071 non-null  object\n",
            " 8   tech2         231 non-null     object\n",
            " 9   brand         577271 non-null  object\n",
            " 10  feature       590071 non-null  object\n",
            " 11  rank          590071 non-null  object\n",
            " 12  also_view     590071 non-null  object\n",
            " 13  details       590071 non-null  object\n",
            " 14  main_cat      586685 non-null  object\n",
            " 15  similar_item  50931 non-null   object\n",
            " 16  date          45880 non-null   object\n",
            " 17  price         127564 non-null  object\n",
            " 18  asin          590071 non-null  object\n",
            "dtypes: int64(1), object(18)\n",
            "memory usage: 85.5+ MB\n"
          ]
        }
      ]
    },
    {
      "cell_type": "code",
      "source": [
        "df_meta.isnull().mean()*100"
      ],
      "metadata": {
        "colab": {
          "base_uri": "https://localhost:8080/"
        },
        "id": "HsFV4URANRfR",
        "outputId": "f0ad8b9f-6393-4744-c62e-f61d6471926d"
      },
      "execution_count": null,
      "outputs": [
        {
          "output_type": "execute_result",
          "data": {
            "text/plain": [
              "Unnamed: 0       0.000000\n",
              "category         0.000000\n",
              "tech1           98.884033\n",
              "description      0.000000\n",
              "fit             99.992713\n",
              "title            0.001525\n",
              "also_buy         0.000000\n",
              "image            0.000000\n",
              "tech2           99.960852\n",
              "brand            2.169230\n",
              "feature          0.000000\n",
              "rank             0.000000\n",
              "also_view        0.000000\n",
              "details          0.000000\n",
              "main_cat         0.573829\n",
              "similar_item    91.368666\n",
              "date            92.224664\n",
              "price           78.381585\n",
              "asin             0.000000\n",
              "dtype: float64"
            ]
          },
          "metadata": {},
          "execution_count": 179
        }
      ]
    },
    {
      "cell_type": "code",
      "source": [
        "#dropping duplicates in ASIN\n",
        "\n",
        "df_meta.drop_duplicates(subset='asin',inplace=True)"
      ],
      "metadata": {
        "id": "FdqqCnDbSby0"
      },
      "execution_count": null,
      "outputs": []
    },
    {
      "cell_type": "code",
      "source": [
        "# dropping the columns with higher percentage null values, except Price column\n",
        "df_meta.drop(['tech1','tech2','fit','date','similar_item'], axis = 1, inplace = True)"
      ],
      "metadata": {
        "id": "a0KKOOM7T8E_"
      },
      "execution_count": null,
      "outputs": []
    },
    {
      "cell_type": "code",
      "source": [
        "df_meta.isnull().sum()"
      ],
      "metadata": {
        "colab": {
          "base_uri": "https://localhost:8080/"
        },
        "id": "uHCf4O1SUu2A",
        "outputId": "3ae7fbd3-b8c5-41d6-c317-2fafedca420b"
      },
      "execution_count": null,
      "outputs": [
        {
          "output_type": "execute_result",
          "data": {
            "text/plain": [
              "Unnamed: 0          0\n",
              "category            0\n",
              "description         0\n",
              "title               9\n",
              "also_buy            0\n",
              "image               0\n",
              "brand           12774\n",
              "feature             0\n",
              "rank                0\n",
              "also_view           0\n",
              "details             0\n",
              "main_cat         3386\n",
              "price          461899\n",
              "asin                0\n",
              "dtype: int64"
            ]
          },
          "metadata": {},
          "execution_count": 25
        }
      ]
    },
    {
      "cell_type": "code",
      "source": [
        "df_meta.price.value_counts()"
      ],
      "metadata": {
        "colab": {
          "base_uri": "https://localhost:8080/"
        },
        "id": "IHWOilN3VEkp",
        "outputId": "abc969d4-5ca8-4db7-8b50-bb40c5602665"
      },
      "execution_count": null,
      "outputs": [
        {
          "output_type": "execute_result",
          "data": {
            "text/plain": [
              "price\n",
              "$7.99      6290\n",
              "$9.99      6203\n",
              "$6.99      5131\n",
              "$8.99      4383\n",
              "$14.99     3728\n",
              "           ... \n",
              "$65.24        1\n",
              "$100.60       1\n",
              "$23.30        1\n",
              "$38.29        1\n",
              "$75.24        1\n",
              "Name: count, Length: 4668, dtype: int64"
            ]
          },
          "metadata": {},
          "execution_count": 26
        }
      ]
    },
    {
      "cell_type": "code",
      "source": [
        "# replace $ to none and convert price to float\n",
        "df_meta[\"price\"]= df_meta[\"price\"].str.replace(\"$\",'')"
      ],
      "metadata": {
        "id": "tUTjtBpeVieO"
      },
      "execution_count": null,
      "outputs": []
    },
    {
      "cell_type": "code",
      "source": [
        "df_meta.price.value_counts()"
      ],
      "metadata": {
        "colab": {
          "base_uri": "https://localhost:8080/"
        },
        "id": "J795S5WWfGaF",
        "outputId": "53f91e1a-8e77-45f5-d450-b4f92441d0a0"
      },
      "execution_count": null,
      "outputs": [
        {
          "output_type": "execute_result",
          "data": {
            "text/plain": [
              "price\n",
              "7.99      6290\n",
              "9.99      6203\n",
              "6.99      5131\n",
              "8.99      4383\n",
              "14.99     3728\n",
              "          ... \n",
              "65.24        1\n",
              "100.60       1\n",
              "23.30        1\n",
              "38.29        1\n",
              "75.24        1\n",
              "Name: count, Length: 4668, dtype: int64"
            ]
          },
          "metadata": {},
          "execution_count": 28
        }
      ]
    },
    {
      "cell_type": "code",
      "source": [
        "# replace \",\" to none\n",
        "df_meta[\"price\"]= df_meta[\"price\"].str.replace(\",\",'')"
      ],
      "metadata": {
        "id": "7hvb3n1aWm8Q"
      },
      "execution_count": null,
      "outputs": []
    },
    {
      "cell_type": "code",
      "source": [
        "# converting price column from object dtype to numeric\n",
        "df_meta['price']= pd.to_numeric(df_meta['price'], errors='coerce')"
      ],
      "metadata": {
        "id": "Iv8BcBU-WmuI"
      },
      "execution_count": null,
      "outputs": []
    },
    {
      "cell_type": "code",
      "source": [
        "# checking the overall null values in price column\n",
        "df_meta[\"price\"].isnull().sum()"
      ],
      "metadata": {
        "colab": {
          "base_uri": "https://localhost:8080/"
        },
        "id": "a94NZn3bWmiN",
        "outputId": "347b6718-ceb1-40c2-bc87-6ea01c9acfd0"
      },
      "execution_count": null,
      "outputs": [
        {
          "output_type": "execute_result",
          "data": {
            "text/plain": [
              "464863"
            ]
          },
          "metadata": {},
          "execution_count": 26
        }
      ]
    },
    {
      "cell_type": "code",
      "source": [
        "# checking the brand wise null value\n",
        "df_meta[df_meta[\"price\"].isnull()]['brand'].value_counts()"
      ],
      "metadata": {
        "colab": {
          "base_uri": "https://localhost:8080/"
        },
        "id": "WygtghKJWmSG",
        "outputId": "b925ad78-d6ca-420e-fad6-ab607501a441"
      },
      "execution_count": null,
      "outputs": [
        {
          "output_type": "execute_result",
          "data": {
            "text/plain": [
              "brand\n",
              "Generic                                9696\n",
              "EMPIRE                                 4648\n",
              "MyBat                                  4466\n",
              "Unknown                                4142\n",
              "Samsung                                3198\n",
              "                                       ... \n",
              "Pyra                                      1\n",
              "Lucdan                                    1\n",
              "CIDEROS                                   1\n",
              "TPE Electronics Technology Co.,Ltd.       1\n",
              "HBER                                      1\n",
              "Name: count, Length: 39723, dtype: int64"
            ]
          },
          "metadata": {},
          "execution_count": 27
        }
      ]
    },
    {
      "cell_type": "code",
      "source": [
        "# imputing null price with their brand's mean price\n",
        "df_meta['price'] = df_meta.groupby('brand')['price'].transform(lambda x: x.fillna(x.mean()))"
      ],
      "metadata": {
        "id": "Ty-VPP7YWmAc"
      },
      "execution_count": null,
      "outputs": []
    },
    {
      "cell_type": "code",
      "source": [
        "df_meta[\"price\"].isnull().sum()"
      ],
      "metadata": {
        "colab": {
          "base_uri": "https://localhost:8080/"
        },
        "id": "Z1jm_ofwX7Nc",
        "outputId": "75425638-b9af-4bcc-c1e4-295c231aa5c4"
      },
      "execution_count": null,
      "outputs": [
        {
          "output_type": "execute_result",
          "data": {
            "text/plain": [
              "167235"
            ]
          },
          "metadata": {},
          "execution_count": 29
        }
      ]
    },
    {
      "cell_type": "code",
      "source": [
        "df_meta.isnull().sum()"
      ],
      "metadata": {
        "colab": {
          "base_uri": "https://localhost:8080/"
        },
        "id": "tcg4rQe8X6xl",
        "outputId": "76c9a3f3-f395-41e2-ed95-9ded017d9645"
      },
      "execution_count": null,
      "outputs": [
        {
          "output_type": "execute_result",
          "data": {
            "text/plain": [
              "Unnamed: 0          0\n",
              "category            0\n",
              "description         0\n",
              "title               9\n",
              "also_buy            0\n",
              "image               0\n",
              "brand           12774\n",
              "feature             0\n",
              "rank                0\n",
              "also_view           0\n",
              "details             0\n",
              "main_cat         3386\n",
              "price          167235\n",
              "asin                0\n",
              "dtype: int64"
            ]
          },
          "metadata": {},
          "execution_count": 192
        }
      ]
    },
    {
      "cell_type": "code",
      "source": [
        "df_meta=df_meta[~df_meta['main_cat'].isna()]"
      ],
      "metadata": {
        "id": "LP6ns67WX6nw"
      },
      "execution_count": null,
      "outputs": []
    },
    {
      "cell_type": "code",
      "source": [
        "df_meta.isnull().sum()"
      ],
      "metadata": {
        "colab": {
          "base_uri": "https://localhost:8080/"
        },
        "id": "7BegCzsoX6h2",
        "outputId": "0110711e-2be6-42a6-e821-23ae12abe64f"
      },
      "execution_count": null,
      "outputs": [
        {
          "output_type": "execute_result",
          "data": {
            "text/plain": [
              "Unnamed: 0          0\n",
              "category            0\n",
              "description         0\n",
              "title               7\n",
              "also_buy            0\n",
              "image               0\n",
              "brand           11547\n",
              "feature             0\n",
              "rank                0\n",
              "also_view           0\n",
              "details             0\n",
              "main_cat            0\n",
              "price          165418\n",
              "asin                0\n",
              "dtype: int64"
            ]
          },
          "metadata": {},
          "execution_count": 35
        }
      ]
    },
    {
      "cell_type": "code",
      "source": [
        "# Rest all missing values replaced by mean price\n",
        "df_meta['price'] = df_meta['price'].fillna(df_meta['price'].mean())"
      ],
      "metadata": {
        "id": "xpU0DbbHj5j3"
      },
      "execution_count": null,
      "outputs": []
    },
    {
      "cell_type": "code",
      "source": [
        "df_meta=df_meta[~df_meta['brand'].isna()]"
      ],
      "metadata": {
        "id": "wCRI62k8lTV1"
      },
      "execution_count": null,
      "outputs": []
    },
    {
      "cell_type": "code",
      "source": [
        "df_meta.isnull().sum()"
      ],
      "metadata": {
        "colab": {
          "base_uri": "https://localhost:8080/"
        },
        "id": "URvYKruQlJ64",
        "outputId": "0284b530-ede5-4d7a-822b-36efe8fbf75a"
      },
      "execution_count": null,
      "outputs": [
        {
          "output_type": "execute_result",
          "data": {
            "text/plain": [
              "Unnamed: 0     0\n",
              "category       0\n",
              "description    0\n",
              "title          7\n",
              "also_buy       0\n",
              "image          0\n",
              "brand          0\n",
              "feature        0\n",
              "rank           0\n",
              "also_view      0\n",
              "details        0\n",
              "main_cat       0\n",
              "price          0\n",
              "asin           0\n",
              "dtype: int64"
            ]
          },
          "metadata": {},
          "execution_count": 31
        }
      ]
    },
    {
      "cell_type": "markdown",
      "source": [
        "__There are no major null values available.__"
      ],
      "metadata": {
        "id": "tMmkFUnKnlRd"
      }
    },
    {
      "cell_type": "markdown",
      "source": [
        "##### Extracting rank"
      ],
      "metadata": {
        "id": "osL8y_37nH-I"
      }
    },
    {
      "cell_type": "code",
      "source": [
        "df_meta['rank'].value_counts()"
      ],
      "metadata": {
        "colab": {
          "base_uri": "https://localhost:8080/"
        },
        "id": "pq_M1hw7X6b-",
        "outputId": "d356bdce-53c7-4a88-daf3-dcd5dd1dc076"
      },
      "execution_count": null,
      "outputs": [
        {
          "output_type": "execute_result",
          "data": {
            "text/plain": [
              "rank\n",
              "[]                                                                                                                                                                                                                                                                57832\n",
              "['>#1,135 in Cell Phones & Accessories (See Top 100 in Cell Phones & Accessories)', '>#168 in Cell Phones & Accessories > Cell Phone Accessories > Screen Protectors', '>#1,134 in Electronics > Cell Phones & Accessories']                                         77\n",
              "['>#189,670 in Cell Phones & Accessories (See Top 100 in Cell Phones & Accessories)', '>#13,064 in Cell Phones & Accessories > Cell Phone Accessories > Screen Protectors', '>#189,241 in Electronics > Cell Phones & Accessories']                                  44\n",
              "['>#139,758 in Kitchen & Dining (See Top 100 in Kitchen & Dining)', '>#56,050 in Electronics > Cell Phones & Accessories > Cases, Holsters & Clips > Basic Cases']                                                                                                   38\n",
              "['>#207,736 in Cell Phones & Accessories (See Top 100 in Cell Phones & Accessories)', '>#14,252 in Cell Phones & Accessories > Cell Phone Accessories > Screen Protectors', '>#207,272 in Electronics > Cell Phones & Accessories']                                  38\n",
              "                                                                                                                                                                                                                                                                  ...  \n",
              "['>#1,499,668 in Cell Phones & Accessories (See Top 100 in Cell Phones & Accessories)', '>#565,003 in Cell Phones & Accessories > Cases, Holsters & Clips > Basic Cases']                                                                                             1\n",
              "['>#687,881 in Cell Phones & Accessories (See Top 100 in Cell Phones & Accessories)', '>#7,919 in Cell Phones & Accessories > Cell Phone Accessories > Chargers & Power Adapters > Charging Stations', '>#686,751 in Electronics > Cell Phones & Accessories']        1\n",
              "2,196,816 in Sports & Outdoors (                                                                                                                                                                                                                                      1\n",
              "['>#1,262,857 in Cell Phones & Accessories (See Top 100 in Cell Phones & Accessories)', '>#26,568 in Cell Phones & Accessories > Cell Phone Accessories > Replacement Parts', '>#1,261,142 in Electronics > Cell Phones & Accessories']                               1\n",
              "['>#1,978,383 in Cell Phones & Accessories (See Top 100 in Cell Phones & Accessories)', '>#6,782 in Cell Phones & Accessories > Cases, Holsters & Clips > Sleeves']                                                                                                   1\n",
              "Name: count, Length: 512162, dtype: int64"
            ]
          },
          "metadata": {},
          "execution_count": 33
        }
      ]
    },
    {
      "cell_type": "code",
      "source": [
        "# extracting rank in cellphones and acessories\n",
        "df_meta[\"new_rank\"]=df_meta[\"rank\"].str.extract(pat='([^>#](\\d{0,3},)?(\\d{3},)?\\d{0,3}\\s*in Cell Phones & Accessories)')[0]"
      ],
      "metadata": {
        "id": "rkVt8hQuX6V5"
      },
      "execution_count": null,
      "outputs": []
    },
    {
      "cell_type": "code",
      "source": [
        "df_meta[\"new_rank\"]=df_meta[\"new_rank\"].str.replace(\">#\",\"\").str.replace(\"in Cell Phones & Accessories\",\"\").str.replace(\",\",\"\")"
      ],
      "metadata": {
        "id": "IgseGk00hN9M"
      },
      "execution_count": null,
      "outputs": []
    },
    {
      "cell_type": "code",
      "source": [
        "# converting new rank column to integer\n",
        "df_meta[\"new_rank\"] = df_meta[\"new_rank\"].astype(\"float\")"
      ],
      "metadata": {
        "id": "ux5aqdZdhNvd"
      },
      "execution_count": null,
      "outputs": []
    },
    {
      "cell_type": "code",
      "source": [
        "# dropping rank column as we got new_rank column\n",
        "df_meta.drop([\"rank\"],axis=1, inplace=True)"
      ],
      "metadata": {
        "id": "pVahP6lxX6PM"
      },
      "execution_count": null,
      "outputs": []
    },
    {
      "cell_type": "code",
      "source": [
        "df_meta.shape"
      ],
      "metadata": {
        "colab": {
          "base_uri": "https://localhost:8080/"
        },
        "id": "gx_anv2Kw79r",
        "outputId": "6fb903ea-7698-4de5-abbc-ebf82415797a"
      },
      "execution_count": null,
      "outputs": [
        {
          "output_type": "execute_result",
          "data": {
            "text/plain": [
              "(574423, 14)"
            ]
          },
          "metadata": {},
          "execution_count": 203
        }
      ]
    },
    {
      "cell_type": "code",
      "source": [
        "# writing meta data csv file to external location\n",
        "df_meta.to_csv('/content/drive/MyDrive/capstone/meta_data.csv')"
      ],
      "metadata": {
        "id": "yjt0CsJeirjE"
      },
      "execution_count": null,
      "outputs": []
    },
    {
      "cell_type": "markdown",
      "source": [
        "#### __Merging both dataframes__"
      ],
      "metadata": {
        "id": "4XmvZ2gZoRqd"
      }
    },
    {
      "cell_type": "code",
      "source": [
        "# Merging two dataframes\n",
        "df_merged = pd.merge(df_phonedata, df_meta, how = 'inner', on = ['asin'])"
      ],
      "metadata": {
        "id": "g-Fkna9NirXm"
      },
      "execution_count": null,
      "outputs": []
    },
    {
      "cell_type": "code",
      "source": [
        "df_merged.head(3)"
      ],
      "metadata": {
        "colab": {
          "base_uri": "https://localhost:8080/",
          "height": 592
        },
        "id": "-3Ve2F9UirLw",
        "outputId": "1ea79b24-b7c6-4337-e155-411eabdf11b5"
      },
      "execution_count": null,
      "outputs": [
        {
          "output_type": "execute_result",
          "data": {
            "text/plain": [
              "   overall  verified      reviewerID        asin                 style  \\\n",
              "0      5.0      True  A24E3SXTC62LJI  7508492919  {'Color:': ' Bling'}   \n",
              "1      4.0      True   AX8YW6N99IWPQ  7508492919  {'Color:': ' Bling'}   \n",
              "2      3.0      True  A3P9BQ6A7EO0FN  7508492919  {'Color:': ' Bling'}   \n",
              "\n",
              "       reviewerName  \\\n",
              "0  Claudia Valdivia   \n",
              "1        eladia paz   \n",
              "2        Susan Holt   \n",
              "\n",
              "                                                                                            reviewText  \\\n",
              "0  Looks even better in person. Be careful to not drop your phone so often because the rhinestones ...   \n",
              "1                                                                                             Happy it   \n",
              "2                                                                       It was a very cute phone case.   \n",
              "\n",
              "                               summary review_sentiment   Date&Time  ...  \\\n",
              "0  Can't stop won't stop looking at it         POSITIVE  2014-08-03  ...   \n",
              "1                           Four Stars         POSITIVE  2015-02-14  ...   \n",
              "2                            Cute Case         POSITIVE  2015-01-27  ...   \n",
              "\n",
              "                                                                              title  \\\n",
              "0  MinisDesign 3d Bling Crystal Bow Transparent Case for Apple Iphone 4 and 4s-Pink   \n",
              "1  MinisDesign 3d Bling Crystal Bow Transparent Case for Apple Iphone 4 and 4s-Pink   \n",
              "2  MinisDesign 3d Bling Crystal Bow Transparent Case for Apple Iphone 4 and 4s-Pink   \n",
              "\n",
              "  also_buy  \\\n",
              "0       []   \n",
              "1       []   \n",
              "2       []   \n",
              "\n",
              "                                                                                           image  \\\n",
              "0  ['https://images-na.ssl-images-amazon.com/images/I/41Wol0yPcxL._SX38_SY50_CR,0,0,38,50_.jpg']   \n",
              "1  ['https://images-na.ssl-images-amazon.com/images/I/41Wol0yPcxL._SX38_SY50_CR,0,0,38,50_.jpg']   \n",
              "2  ['https://images-na.ssl-images-amazon.com/images/I/41Wol0yPcxL._SX38_SY50_CR,0,0,38,50_.jpg']   \n",
              "\n",
              "     brand  \\\n",
              "0  ELEGANI   \n",
              "1  ELEGANI   \n",
              "2  ELEGANI   \n",
              "\n",
              "                                                                                               feature  \\\n",
              "0  ['Fashionable with unique 3D butterfly design for the iPhone 5 from others', 'Precise cut design...   \n",
              "1  ['Fashionable with unique 3D butterfly design for the iPhone 5 from others', 'Precise cut design...   \n",
              "2  ['Fashionable with unique 3D butterfly design for the iPhone 5 from others', 'Precise cut design...   \n",
              "\n",
              "  also_view details                   main_cat    price  new_rank  \n",
              "0        []      {}  Cell Phones & Accessories  9.82875  228544.0  \n",
              "1        []      {}  Cell Phones & Accessories  9.82875  228544.0  \n",
              "2        []      {}  Cell Phones & Accessories  9.82875  228544.0  \n",
              "\n",
              "[3 rows x 23 columns]"
            ],
            "text/html": [
              "\n",
              "  <div id=\"df-b9700011-4137-4c46-ae42-aaa6f52c2136\" class=\"colab-df-container\">\n",
              "    <div>\n",
              "<style scoped>\n",
              "    .dataframe tbody tr th:only-of-type {\n",
              "        vertical-align: middle;\n",
              "    }\n",
              "\n",
              "    .dataframe tbody tr th {\n",
              "        vertical-align: top;\n",
              "    }\n",
              "\n",
              "    .dataframe thead th {\n",
              "        text-align: right;\n",
              "    }\n",
              "</style>\n",
              "<table border=\"1\" class=\"dataframe\">\n",
              "  <thead>\n",
              "    <tr style=\"text-align: right;\">\n",
              "      <th></th>\n",
              "      <th>overall</th>\n",
              "      <th>verified</th>\n",
              "      <th>reviewerID</th>\n",
              "      <th>asin</th>\n",
              "      <th>style</th>\n",
              "      <th>reviewerName</th>\n",
              "      <th>reviewText</th>\n",
              "      <th>summary</th>\n",
              "      <th>review_sentiment</th>\n",
              "      <th>Date&amp;Time</th>\n",
              "      <th>...</th>\n",
              "      <th>title</th>\n",
              "      <th>also_buy</th>\n",
              "      <th>image</th>\n",
              "      <th>brand</th>\n",
              "      <th>feature</th>\n",
              "      <th>also_view</th>\n",
              "      <th>details</th>\n",
              "      <th>main_cat</th>\n",
              "      <th>price</th>\n",
              "      <th>new_rank</th>\n",
              "    </tr>\n",
              "  </thead>\n",
              "  <tbody>\n",
              "    <tr>\n",
              "      <th>0</th>\n",
              "      <td>5.0</td>\n",
              "      <td>True</td>\n",
              "      <td>A24E3SXTC62LJI</td>\n",
              "      <td>7508492919</td>\n",
              "      <td>{'Color:': ' Bling'}</td>\n",
              "      <td>Claudia Valdivia</td>\n",
              "      <td>Looks even better in person. Be careful to not drop your phone so often because the rhinestones ...</td>\n",
              "      <td>Can't stop won't stop looking at it</td>\n",
              "      <td>POSITIVE</td>\n",
              "      <td>2014-08-03</td>\n",
              "      <td>...</td>\n",
              "      <td>MinisDesign 3d Bling Crystal Bow Transparent Case for Apple Iphone 4 and 4s-Pink</td>\n",
              "      <td>[]</td>\n",
              "      <td>['https://images-na.ssl-images-amazon.com/images/I/41Wol0yPcxL._SX38_SY50_CR,0,0,38,50_.jpg']</td>\n",
              "      <td>ELEGANI</td>\n",
              "      <td>['Fashionable with unique 3D butterfly design for the iPhone 5 from others', 'Precise cut design...</td>\n",
              "      <td>[]</td>\n",
              "      <td>{}</td>\n",
              "      <td>Cell Phones &amp; Accessories</td>\n",
              "      <td>9.82875</td>\n",
              "      <td>228544.0</td>\n",
              "    </tr>\n",
              "    <tr>\n",
              "      <th>1</th>\n",
              "      <td>4.0</td>\n",
              "      <td>True</td>\n",
              "      <td>AX8YW6N99IWPQ</td>\n",
              "      <td>7508492919</td>\n",
              "      <td>{'Color:': ' Bling'}</td>\n",
              "      <td>eladia paz</td>\n",
              "      <td>Happy it</td>\n",
              "      <td>Four Stars</td>\n",
              "      <td>POSITIVE</td>\n",
              "      <td>2015-02-14</td>\n",
              "      <td>...</td>\n",
              "      <td>MinisDesign 3d Bling Crystal Bow Transparent Case for Apple Iphone 4 and 4s-Pink</td>\n",
              "      <td>[]</td>\n",
              "      <td>['https://images-na.ssl-images-amazon.com/images/I/41Wol0yPcxL._SX38_SY50_CR,0,0,38,50_.jpg']</td>\n",
              "      <td>ELEGANI</td>\n",
              "      <td>['Fashionable with unique 3D butterfly design for the iPhone 5 from others', 'Precise cut design...</td>\n",
              "      <td>[]</td>\n",
              "      <td>{}</td>\n",
              "      <td>Cell Phones &amp; Accessories</td>\n",
              "      <td>9.82875</td>\n",
              "      <td>228544.0</td>\n",
              "    </tr>\n",
              "    <tr>\n",
              "      <th>2</th>\n",
              "      <td>3.0</td>\n",
              "      <td>True</td>\n",
              "      <td>A3P9BQ6A7EO0FN</td>\n",
              "      <td>7508492919</td>\n",
              "      <td>{'Color:': ' Bling'}</td>\n",
              "      <td>Susan Holt</td>\n",
              "      <td>It was a very cute phone case.</td>\n",
              "      <td>Cute Case</td>\n",
              "      <td>POSITIVE</td>\n",
              "      <td>2015-01-27</td>\n",
              "      <td>...</td>\n",
              "      <td>MinisDesign 3d Bling Crystal Bow Transparent Case for Apple Iphone 4 and 4s-Pink</td>\n",
              "      <td>[]</td>\n",
              "      <td>['https://images-na.ssl-images-amazon.com/images/I/41Wol0yPcxL._SX38_SY50_CR,0,0,38,50_.jpg']</td>\n",
              "      <td>ELEGANI</td>\n",
              "      <td>['Fashionable with unique 3D butterfly design for the iPhone 5 from others', 'Precise cut design...</td>\n",
              "      <td>[]</td>\n",
              "      <td>{}</td>\n",
              "      <td>Cell Phones &amp; Accessories</td>\n",
              "      <td>9.82875</td>\n",
              "      <td>228544.0</td>\n",
              "    </tr>\n",
              "  </tbody>\n",
              "</table>\n",
              "<p>3 rows × 23 columns</p>\n",
              "</div>\n",
              "    <div class=\"colab-df-buttons\">\n",
              "\n",
              "  <div class=\"colab-df-container\">\n",
              "    <button class=\"colab-df-convert\" onclick=\"convertToInteractive('df-b9700011-4137-4c46-ae42-aaa6f52c2136')\"\n",
              "            title=\"Convert this dataframe to an interactive table.\"\n",
              "            style=\"display:none;\">\n",
              "\n",
              "  <svg xmlns=\"http://www.w3.org/2000/svg\" height=\"24px\" viewBox=\"0 -960 960 960\">\n",
              "    <path d=\"M120-120v-720h720v720H120Zm60-500h600v-160H180v160Zm220 220h160v-160H400v160Zm0 220h160v-160H400v160ZM180-400h160v-160H180v160Zm440 0h160v-160H620v160ZM180-180h160v-160H180v160Zm440 0h160v-160H620v160Z\"/>\n",
              "  </svg>\n",
              "    </button>\n",
              "\n",
              "  <style>\n",
              "    .colab-df-container {\n",
              "      display:flex;\n",
              "      gap: 12px;\n",
              "    }\n",
              "\n",
              "    .colab-df-convert {\n",
              "      background-color: #E8F0FE;\n",
              "      border: none;\n",
              "      border-radius: 50%;\n",
              "      cursor: pointer;\n",
              "      display: none;\n",
              "      fill: #1967D2;\n",
              "      height: 32px;\n",
              "      padding: 0 0 0 0;\n",
              "      width: 32px;\n",
              "    }\n",
              "\n",
              "    .colab-df-convert:hover {\n",
              "      background-color: #E2EBFA;\n",
              "      box-shadow: 0px 1px 2px rgba(60, 64, 67, 0.3), 0px 1px 3px 1px rgba(60, 64, 67, 0.15);\n",
              "      fill: #174EA6;\n",
              "    }\n",
              "\n",
              "    .colab-df-buttons div {\n",
              "      margin-bottom: 4px;\n",
              "    }\n",
              "\n",
              "    [theme=dark] .colab-df-convert {\n",
              "      background-color: #3B4455;\n",
              "      fill: #D2E3FC;\n",
              "    }\n",
              "\n",
              "    [theme=dark] .colab-df-convert:hover {\n",
              "      background-color: #434B5C;\n",
              "      box-shadow: 0px 1px 3px 1px rgba(0, 0, 0, 0.15);\n",
              "      filter: drop-shadow(0px 1px 2px rgba(0, 0, 0, 0.3));\n",
              "      fill: #FFFFFF;\n",
              "    }\n",
              "  </style>\n",
              "\n",
              "    <script>\n",
              "      const buttonEl =\n",
              "        document.querySelector('#df-b9700011-4137-4c46-ae42-aaa6f52c2136 button.colab-df-convert');\n",
              "      buttonEl.style.display =\n",
              "        google.colab.kernel.accessAllowed ? 'block' : 'none';\n",
              "\n",
              "      async function convertToInteractive(key) {\n",
              "        const element = document.querySelector('#df-b9700011-4137-4c46-ae42-aaa6f52c2136');\n",
              "        const dataTable =\n",
              "          await google.colab.kernel.invokeFunction('convertToInteractive',\n",
              "                                                    [key], {});\n",
              "        if (!dataTable) return;\n",
              "\n",
              "        const docLinkHtml = 'Like what you see? Visit the ' +\n",
              "          '<a target=\"_blank\" href=https://colab.research.google.com/notebooks/data_table.ipynb>data table notebook</a>'\n",
              "          + ' to learn more about interactive tables.';\n",
              "        element.innerHTML = '';\n",
              "        dataTable['output_type'] = 'display_data';\n",
              "        await google.colab.output.renderOutput(dataTable, element);\n",
              "        const docLink = document.createElement('div');\n",
              "        docLink.innerHTML = docLinkHtml;\n",
              "        element.appendChild(docLink);\n",
              "      }\n",
              "    </script>\n",
              "  </div>\n",
              "\n",
              "\n",
              "<div id=\"df-f13060be-ba37-4d26-974c-6c2408b6035b\">\n",
              "  <button class=\"colab-df-quickchart\" onclick=\"quickchart('df-f13060be-ba37-4d26-974c-6c2408b6035b')\"\n",
              "            title=\"Suggest charts\"\n",
              "            style=\"display:none;\">\n",
              "\n",
              "<svg xmlns=\"http://www.w3.org/2000/svg\" height=\"24px\"viewBox=\"0 0 24 24\"\n",
              "     width=\"24px\">\n",
              "    <g>\n",
              "        <path d=\"M19 3H5c-1.1 0-2 .9-2 2v14c0 1.1.9 2 2 2h14c1.1 0 2-.9 2-2V5c0-1.1-.9-2-2-2zM9 17H7v-7h2v7zm4 0h-2V7h2v10zm4 0h-2v-4h2v4z\"/>\n",
              "    </g>\n",
              "</svg>\n",
              "  </button>\n",
              "\n",
              "<style>\n",
              "  .colab-df-quickchart {\n",
              "      --bg-color: #E8F0FE;\n",
              "      --fill-color: #1967D2;\n",
              "      --hover-bg-color: #E2EBFA;\n",
              "      --hover-fill-color: #174EA6;\n",
              "      --disabled-fill-color: #AAA;\n",
              "      --disabled-bg-color: #DDD;\n",
              "  }\n",
              "\n",
              "  [theme=dark] .colab-df-quickchart {\n",
              "      --bg-color: #3B4455;\n",
              "      --fill-color: #D2E3FC;\n",
              "      --hover-bg-color: #434B5C;\n",
              "      --hover-fill-color: #FFFFFF;\n",
              "      --disabled-bg-color: #3B4455;\n",
              "      --disabled-fill-color: #666;\n",
              "  }\n",
              "\n",
              "  .colab-df-quickchart {\n",
              "    background-color: var(--bg-color);\n",
              "    border: none;\n",
              "    border-radius: 50%;\n",
              "    cursor: pointer;\n",
              "    display: none;\n",
              "    fill: var(--fill-color);\n",
              "    height: 32px;\n",
              "    padding: 0;\n",
              "    width: 32px;\n",
              "  }\n",
              "\n",
              "  .colab-df-quickchart:hover {\n",
              "    background-color: var(--hover-bg-color);\n",
              "    box-shadow: 0 1px 2px rgba(60, 64, 67, 0.3), 0 1px 3px 1px rgba(60, 64, 67, 0.15);\n",
              "    fill: var(--button-hover-fill-color);\n",
              "  }\n",
              "\n",
              "  .colab-df-quickchart-complete:disabled,\n",
              "  .colab-df-quickchart-complete:disabled:hover {\n",
              "    background-color: var(--disabled-bg-color);\n",
              "    fill: var(--disabled-fill-color);\n",
              "    box-shadow: none;\n",
              "  }\n",
              "\n",
              "  .colab-df-spinner {\n",
              "    border: 2px solid var(--fill-color);\n",
              "    border-color: transparent;\n",
              "    border-bottom-color: var(--fill-color);\n",
              "    animation:\n",
              "      spin 1s steps(1) infinite;\n",
              "  }\n",
              "\n",
              "  @keyframes spin {\n",
              "    0% {\n",
              "      border-color: transparent;\n",
              "      border-bottom-color: var(--fill-color);\n",
              "      border-left-color: var(--fill-color);\n",
              "    }\n",
              "    20% {\n",
              "      border-color: transparent;\n",
              "      border-left-color: var(--fill-color);\n",
              "      border-top-color: var(--fill-color);\n",
              "    }\n",
              "    30% {\n",
              "      border-color: transparent;\n",
              "      border-left-color: var(--fill-color);\n",
              "      border-top-color: var(--fill-color);\n",
              "      border-right-color: var(--fill-color);\n",
              "    }\n",
              "    40% {\n",
              "      border-color: transparent;\n",
              "      border-right-color: var(--fill-color);\n",
              "      border-top-color: var(--fill-color);\n",
              "    }\n",
              "    60% {\n",
              "      border-color: transparent;\n",
              "      border-right-color: var(--fill-color);\n",
              "    }\n",
              "    80% {\n",
              "      border-color: transparent;\n",
              "      border-right-color: var(--fill-color);\n",
              "      border-bottom-color: var(--fill-color);\n",
              "    }\n",
              "    90% {\n",
              "      border-color: transparent;\n",
              "      border-bottom-color: var(--fill-color);\n",
              "    }\n",
              "  }\n",
              "</style>\n",
              "\n",
              "  <script>\n",
              "    async function quickchart(key) {\n",
              "      const quickchartButtonEl =\n",
              "        document.querySelector('#' + key + ' button');\n",
              "      quickchartButtonEl.disabled = true;  // To prevent multiple clicks.\n",
              "      quickchartButtonEl.classList.add('colab-df-spinner');\n",
              "      try {\n",
              "        const charts = await google.colab.kernel.invokeFunction(\n",
              "            'suggestCharts', [key], {});\n",
              "      } catch (error) {\n",
              "        console.error('Error during call to suggestCharts:', error);\n",
              "      }\n",
              "      quickchartButtonEl.classList.remove('colab-df-spinner');\n",
              "      quickchartButtonEl.classList.add('colab-df-quickchart-complete');\n",
              "    }\n",
              "    (() => {\n",
              "      let quickchartButtonEl =\n",
              "        document.querySelector('#df-f13060be-ba37-4d26-974c-6c2408b6035b button');\n",
              "      quickchartButtonEl.style.display =\n",
              "        google.colab.kernel.accessAllowed ? 'block' : 'none';\n",
              "    })();\n",
              "  </script>\n",
              "</div>\n",
              "\n",
              "    </div>\n",
              "  </div>\n"
            ],
            "application/vnd.google.colaboratory.intrinsic+json": {
              "type": "dataframe",
              "variable_name": "df_merged"
            }
          },
          "metadata": {},
          "execution_count": 207
        }
      ]
    },
    {
      "cell_type": "code",
      "source": [
        "df_merged.info()"
      ],
      "metadata": {
        "colab": {
          "base_uri": "https://localhost:8080/"
        },
        "id": "B068X8mniq90",
        "outputId": "10e95014-9e65-49b6-fdb2-965cd83c3355"
      },
      "execution_count": null,
      "outputs": [
        {
          "output_type": "stream",
          "name": "stdout",
          "text": [
            "<class 'pandas.core.frame.DataFrame'>\n",
            "RangeIndex: 603879 entries, 0 to 603878\n",
            "Data columns (total 23 columns):\n",
            " #   Column            Non-Null Count   Dtype  \n",
            "---  ------            --------------   -----  \n",
            " 0   overall           603879 non-null  float64\n",
            " 1   verified          603879 non-null  bool   \n",
            " 2   reviewerID        603879 non-null  object \n",
            " 3   asin              603879 non-null  object \n",
            " 4   style             603879 non-null  object \n",
            " 5   reviewerName      603771 non-null  object \n",
            " 6   reviewText        603879 non-null  object \n",
            " 7   summary           603879 non-null  object \n",
            " 8   review_sentiment  603879 non-null  object \n",
            " 9   Date&Time         603879 non-null  object \n",
            " 10  Unnamed: 0        603879 non-null  int64  \n",
            " 11  category          603879 non-null  object \n",
            " 12  description       603879 non-null  object \n",
            " 13  title             603879 non-null  object \n",
            " 14  also_buy          603879 non-null  object \n",
            " 15  image             603879 non-null  object \n",
            " 16  brand             603879 non-null  object \n",
            " 17  feature           603879 non-null  object \n",
            " 18  also_view         603879 non-null  object \n",
            " 19  details           603879 non-null  object \n",
            " 20  main_cat          603879 non-null  object \n",
            " 21  price             603879 non-null  float64\n",
            " 22  new_rank          562746 non-null  float64\n",
            "dtypes: bool(1), float64(3), int64(1), object(18)\n",
            "memory usage: 101.9+ MB\n"
          ]
        }
      ]
    },
    {
      "cell_type": "code",
      "source": [
        "# Creating merged csv file\n",
        "df_merged.to_csv('/content/drive/MyDrive/capstone/merged.csv')"
      ],
      "metadata": {
        "id": "OMShYuUjiqyI"
      },
      "execution_count": null,
      "outputs": []
    },
    {
      "cell_type": "code",
      "source": [
        "#pip install xlsxwriter"
      ],
      "metadata": {
        "id": "RfcE52bYyM7g"
      },
      "execution_count": null,
      "outputs": []
    },
    {
      "cell_type": "code",
      "source": [
        "# Converting to xlsx format and saving\n",
        "#df_merged1.to_excel(r\"/content/drive/My Drive/capstone/merged_excelfile.xlsx\", index=False, header=True, engine= 'xlsxwriter')\n"
      ],
      "metadata": {
        "id": "Cd2LArXkNz9m"
      },
      "execution_count": null,
      "outputs": []
    }
  ],
  "metadata": {
    "colab": {
      "provenance": [],
      "gpuType": "T4"
    },
    "kernelspec": {
      "display_name": "Python 3",
      "name": "python3"
    },
    "language_info": {
      "codemirror_mode": {
        "name": "ipython",
        "version": 3
      },
      "file_extension": ".py",
      "mimetype": "text/x-python",
      "name": "python",
      "nbconvert_exporter": "python",
      "pygments_lexer": "ipython3",
      "version": "3.7.4"
    },
    "accelerator": "GPU"
  },
  "nbformat": 4,
  "nbformat_minor": 0
}